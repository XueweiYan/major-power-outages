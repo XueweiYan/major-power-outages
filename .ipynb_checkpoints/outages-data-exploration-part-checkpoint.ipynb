{
 "cells": [
  {
   "cell_type": "markdown",
   "metadata": {},
   "source": [
    "# Major Power Outages Data Exploration Part\n",
    "This part of the project focus on exploring features of the dataset with exploratory data analysis. It aims to understand the components of the dataset, the missingness situation of variables, as well as correlationship between columns.\n",
    "\n",
    "The dataset of `outages.xlsx` contains major power outage data in the continental U.S. from January 2000 to July 2016. Here, a major power  outage is defined as a power outage that impacted at least 50,000 customers or caused an unplanned firm load loss of atleast 300MW. The data is downloadable from [this link](https://engineering.purdue.edu/LASCI/research-data/outages/outagerisks). The dictionary of this dataset is provided at this [article](https://www.sciencedirect.com/science/article/pii/S2352340918307182) under *Table 1. Variable descriptions*."
   ]
  },
  {
   "cell_type": "markdown",
   "metadata": {},
   "source": [
    "# Summary of Findings\n",
    "\n",
    "### Introduction\n",
    "The main focus of most of my investigations falls on the relationship between the severity of outages and some sociology information. I use two variables `OUTAGE.DURATION` and `CUSTOMERS.AFFECTED` to define *severity*, and investigate on how workers are recording these information and how their working manners may vary in terms of other factors.\n",
    "\n",
    "### Cleaning and EDA\n",
    "* I locate the missingness in this data set, changing the data frame to a reader-friendly format and assign them suitable data types.\n",
    "* I discover that workers prefer to estimate the outage duration using whole numbers such as 1 hour. That makes the distribution of this variable unsmooth.\n",
    "* I understand that different cause category have significantly different severity as to workers or customers. Some of the outages are terrible because workers need to spend a long time fixing the problem, while others may affect a huge amount of customers at the same time.\n",
    "\n",
    "### Assessment of Missingness\n",
    "* I find the variables in this data set really connected that many of them provides some evidences to the missingness of others. The only variable whos missingness can possibly be explained as NMAR is the variable about time durations.\n",
    "* The missingness of the variable `CUSTOMERS.AFFECTED` may be related to many other variables, from geospatial indicators to humanity variables.\n",
    "\n",
    "### Hypothesis Test\n",
    "* If we look at all the data points in these records, we may conclude that companies treat communities who pay higher prices equally with those who pay less. (I observe the service quality in terms of their average respond time to an outage.)\n",
    "* However, if we remove the cause type of \"fuel supply emergency\", which is heavily biased towards the higher pay rate group, we will find the real situation: companies actually respond to an outage in higher pay rate communities faster than the other!"
   ]
  },
  {
   "cell_type": "markdown",
   "metadata": {},
   "source": [
    "# Code"
   ]
  },
  {
   "cell_type": "code",
   "execution_count": 1,
   "metadata": {
    "ExecuteTime": {
     "end_time": "2019-10-31T23:36:28.652554Z",
     "start_time": "2019-10-31T23:36:27.180520Z"
    }
   },
   "outputs": [],
   "source": [
    "import matplotlib.pyplot as plt\n",
    "import numpy as np\n",
    "import os\n",
    "import pandas as pd\n",
    "import seaborn as sns\n",
    "import datetime\n",
    "%matplotlib inline\n",
    "%config InlineBackend.figure_format = 'retina'  # Higher resolution figures"
   ]
  },
  {
   "cell_type": "markdown",
   "metadata": {},
   "source": [
    "### Cleaning and EDA"
   ]
  },
  {
   "cell_type": "markdown",
   "metadata": {},
   "source": [
    "**Load and preview the data set**\n",
    "\n",
    "Load the data for a preview from excel file `outage.xlsx`. Remove the file header, irrelevant row and column designed for unit demonstration."
   ]
  },
  {
   "cell_type": "code",
   "execution_count": 2,
   "metadata": {
    "scrolled": true
   },
   "outputs": [
    {
     "data": {
      "text/html": [
       "<div>\n",
       "<style scoped>\n",
       "    .dataframe tbody tr th:only-of-type {\n",
       "        vertical-align: middle;\n",
       "    }\n",
       "\n",
       "    .dataframe tbody tr th {\n",
       "        vertical-align: top;\n",
       "    }\n",
       "\n",
       "    .dataframe thead th {\n",
       "        text-align: right;\n",
       "    }\n",
       "</style>\n",
       "<table border=\"1\" class=\"dataframe\">\n",
       "  <thead>\n",
       "    <tr style=\"text-align: right;\">\n",
       "      <th></th>\n",
       "      <th>OBS</th>\n",
       "      <th>YEAR</th>\n",
       "      <th>MONTH</th>\n",
       "      <th>U.S._STATE</th>\n",
       "      <th>POSTAL.CODE</th>\n",
       "      <th>NERC.REGION</th>\n",
       "      <th>CLIMATE.REGION</th>\n",
       "      <th>ANOMALY.LEVEL</th>\n",
       "      <th>CLIMATE.CATEGORY</th>\n",
       "      <th>OUTAGE.START.DATE</th>\n",
       "      <th>...</th>\n",
       "      <th>POPPCT_URBAN</th>\n",
       "      <th>POPPCT_UC</th>\n",
       "      <th>POPDEN_URBAN</th>\n",
       "      <th>POPDEN_UC</th>\n",
       "      <th>POPDEN_RURAL</th>\n",
       "      <th>AREAPCT_URBAN</th>\n",
       "      <th>AREAPCT_UC</th>\n",
       "      <th>PCT_LAND</th>\n",
       "      <th>PCT_WATER_TOT</th>\n",
       "      <th>PCT_WATER_INLAND</th>\n",
       "    </tr>\n",
       "  </thead>\n",
       "  <tbody>\n",
       "    <tr>\n",
       "      <th>1</th>\n",
       "      <td>1.0</td>\n",
       "      <td>2011.0</td>\n",
       "      <td>7.0</td>\n",
       "      <td>Minnesota</td>\n",
       "      <td>MN</td>\n",
       "      <td>MRO</td>\n",
       "      <td>East North Central</td>\n",
       "      <td>-0.3</td>\n",
       "      <td>normal</td>\n",
       "      <td>2011-07-01 00:00:00</td>\n",
       "      <td>...</td>\n",
       "      <td>73.27</td>\n",
       "      <td>15.28</td>\n",
       "      <td>2279</td>\n",
       "      <td>1700.5</td>\n",
       "      <td>18.2</td>\n",
       "      <td>2.14</td>\n",
       "      <td>0.6</td>\n",
       "      <td>91.5927</td>\n",
       "      <td>8.40733</td>\n",
       "      <td>5.47874</td>\n",
       "    </tr>\n",
       "    <tr>\n",
       "      <th>2</th>\n",
       "      <td>2.0</td>\n",
       "      <td>2014.0</td>\n",
       "      <td>5.0</td>\n",
       "      <td>Minnesota</td>\n",
       "      <td>MN</td>\n",
       "      <td>MRO</td>\n",
       "      <td>East North Central</td>\n",
       "      <td>-0.1</td>\n",
       "      <td>normal</td>\n",
       "      <td>2014-05-11 00:00:00</td>\n",
       "      <td>...</td>\n",
       "      <td>73.27</td>\n",
       "      <td>15.28</td>\n",
       "      <td>2279</td>\n",
       "      <td>1700.5</td>\n",
       "      <td>18.2</td>\n",
       "      <td>2.14</td>\n",
       "      <td>0.6</td>\n",
       "      <td>91.5927</td>\n",
       "      <td>8.40733</td>\n",
       "      <td>5.47874</td>\n",
       "    </tr>\n",
       "    <tr>\n",
       "      <th>3</th>\n",
       "      <td>3.0</td>\n",
       "      <td>2010.0</td>\n",
       "      <td>10.0</td>\n",
       "      <td>Minnesota</td>\n",
       "      <td>MN</td>\n",
       "      <td>MRO</td>\n",
       "      <td>East North Central</td>\n",
       "      <td>-1.5</td>\n",
       "      <td>cold</td>\n",
       "      <td>2010-10-26 00:00:00</td>\n",
       "      <td>...</td>\n",
       "      <td>73.27</td>\n",
       "      <td>15.28</td>\n",
       "      <td>2279</td>\n",
       "      <td>1700.5</td>\n",
       "      <td>18.2</td>\n",
       "      <td>2.14</td>\n",
       "      <td>0.6</td>\n",
       "      <td>91.5927</td>\n",
       "      <td>8.40733</td>\n",
       "      <td>5.47874</td>\n",
       "    </tr>\n",
       "    <tr>\n",
       "      <th>4</th>\n",
       "      <td>4.0</td>\n",
       "      <td>2012.0</td>\n",
       "      <td>6.0</td>\n",
       "      <td>Minnesota</td>\n",
       "      <td>MN</td>\n",
       "      <td>MRO</td>\n",
       "      <td>East North Central</td>\n",
       "      <td>-0.1</td>\n",
       "      <td>normal</td>\n",
       "      <td>2012-06-19 00:00:00</td>\n",
       "      <td>...</td>\n",
       "      <td>73.27</td>\n",
       "      <td>15.28</td>\n",
       "      <td>2279</td>\n",
       "      <td>1700.5</td>\n",
       "      <td>18.2</td>\n",
       "      <td>2.14</td>\n",
       "      <td>0.6</td>\n",
       "      <td>91.5927</td>\n",
       "      <td>8.40733</td>\n",
       "      <td>5.47874</td>\n",
       "    </tr>\n",
       "    <tr>\n",
       "      <th>5</th>\n",
       "      <td>5.0</td>\n",
       "      <td>2015.0</td>\n",
       "      <td>7.0</td>\n",
       "      <td>Minnesota</td>\n",
       "      <td>MN</td>\n",
       "      <td>MRO</td>\n",
       "      <td>East North Central</td>\n",
       "      <td>1.2</td>\n",
       "      <td>warm</td>\n",
       "      <td>2015-07-18 00:00:00</td>\n",
       "      <td>...</td>\n",
       "      <td>73.27</td>\n",
       "      <td>15.28</td>\n",
       "      <td>2279</td>\n",
       "      <td>1700.5</td>\n",
       "      <td>18.2</td>\n",
       "      <td>2.14</td>\n",
       "      <td>0.6</td>\n",
       "      <td>91.5927</td>\n",
       "      <td>8.40733</td>\n",
       "      <td>5.47874</td>\n",
       "    </tr>\n",
       "  </tbody>\n",
       "</table>\n",
       "<p>5 rows × 56 columns</p>\n",
       "</div>"
      ],
      "text/plain": [
       "   OBS    YEAR  MONTH U.S._STATE POSTAL.CODE NERC.REGION      CLIMATE.REGION  \\\n",
       "1  1.0  2011.0    7.0  Minnesota          MN         MRO  East North Central   \n",
       "2  2.0  2014.0    5.0  Minnesota          MN         MRO  East North Central   \n",
       "3  3.0  2010.0   10.0  Minnesota          MN         MRO  East North Central   \n",
       "4  4.0  2012.0    6.0  Minnesota          MN         MRO  East North Central   \n",
       "5  5.0  2015.0    7.0  Minnesota          MN         MRO  East North Central   \n",
       "\n",
       "  ANOMALY.LEVEL CLIMATE.CATEGORY    OUTAGE.START.DATE  ... POPPCT_URBAN  \\\n",
       "1          -0.3           normal  2011-07-01 00:00:00  ...        73.27   \n",
       "2          -0.1           normal  2014-05-11 00:00:00  ...        73.27   \n",
       "3          -1.5             cold  2010-10-26 00:00:00  ...        73.27   \n",
       "4          -0.1           normal  2012-06-19 00:00:00  ...        73.27   \n",
       "5           1.2             warm  2015-07-18 00:00:00  ...        73.27   \n",
       "\n",
       "  POPPCT_UC POPDEN_URBAN POPDEN_UC POPDEN_RURAL AREAPCT_URBAN AREAPCT_UC  \\\n",
       "1     15.28         2279    1700.5         18.2          2.14        0.6   \n",
       "2     15.28         2279    1700.5         18.2          2.14        0.6   \n",
       "3     15.28         2279    1700.5         18.2          2.14        0.6   \n",
       "4     15.28         2279    1700.5         18.2          2.14        0.6   \n",
       "5     15.28         2279    1700.5         18.2          2.14        0.6   \n",
       "\n",
       "  PCT_LAND  PCT_WATER_TOT PCT_WATER_INLAND  \n",
       "1  91.5927        8.40733          5.47874  \n",
       "2  91.5927        8.40733          5.47874  \n",
       "3  91.5927        8.40733          5.47874  \n",
       "4  91.5927        8.40733          5.47874  \n",
       "5  91.5927        8.40733          5.47874  \n",
       "\n",
       "[5 rows x 56 columns]"
      ]
     },
     "execution_count": 2,
     "metadata": {},
     "output_type": "execute_result"
    }
   ],
   "source": [
    "excel_content = pd.read_excel(\"outage.xlsx\", skiprows=5) # Remove the file header in the excel file provided\n",
    "outage = excel_content.iloc[1:, 1:] # Remove irrelevant column and row designed for unit of variables\n",
    "outage.head()"
   ]
  },
  {
   "cell_type": "markdown",
   "metadata": {},
   "source": [
    " "
   ]
  },
  {
   "cell_type": "markdown",
   "metadata": {},
   "source": [
    "**Cast each column to the most appropriate data type**\n",
    "\n",
    "**Notice:** integral column with missing values can only be casted as `float`. So, a test for missingness in each column is required before type casting."
   ]
  },
  {
   "cell_type": "code",
   "execution_count": 3,
   "metadata": {
    "scrolled": false
   },
   "outputs": [
    {
     "data": {
      "text/plain": [
       "OBS                        0.000000\n",
       "YEAR                       0.000000\n",
       "MONTH                      0.005867\n",
       "U.S._STATE                 0.000000\n",
       "POSTAL.CODE                0.000000\n",
       "NERC.REGION                0.000000\n",
       "CLIMATE.REGION             0.003911\n",
       "ANOMALY.LEVEL              0.005867\n",
       "CLIMATE.CATEGORY           0.005867\n",
       "OUTAGE.START.DATE          0.005867\n",
       "OUTAGE.START.TIME          0.005867\n",
       "OUTAGE.RESTORATION.DATE    0.037810\n",
       "OUTAGE.RESTORATION.TIME    0.037810\n",
       "CAUSE.CATEGORY             0.000000\n",
       "CAUSE.CATEGORY.DETAIL      0.307040\n",
       "HURRICANE.NAMES            0.953064\n",
       "OUTAGE.DURATION            0.037810\n",
       "DEMAND.LOSS.MW             0.459583\n",
       "CUSTOMERS.AFFECTED         0.288787\n",
       "RES.PRICE                  0.014342\n",
       "COM.PRICE                  0.014342\n",
       "IND.PRICE                  0.014342\n",
       "TOTAL.PRICE                0.014342\n",
       "RES.SALES                  0.014342\n",
       "COM.SALES                  0.014342\n",
       "IND.SALES                  0.014342\n",
       "TOTAL.SALES                0.014342\n",
       "RES.PERCEN                 0.014342\n",
       "COM.PERCEN                 0.014342\n",
       "IND.PERCEN                 0.014342\n",
       "RES.CUSTOMERS              0.000000\n",
       "COM.CUSTOMERS              0.000000\n",
       "IND.CUSTOMERS              0.000000\n",
       "TOTAL.CUSTOMERS            0.000000\n",
       "RES.CUST.PCT               0.000000\n",
       "COM.CUST.PCT               0.000000\n",
       "IND.CUST.PCT               0.000000\n",
       "PC.REALGSP.STATE           0.000000\n",
       "PC.REALGSP.USA             0.000000\n",
       "PC.REALGSP.REL             0.000000\n",
       "PC.REALGSP.CHANGE          0.000000\n",
       "UTIL.REALGSP               0.000000\n",
       "TOTAL.REALGSP              0.000000\n",
       "UTIL.CONTRI                0.000000\n",
       "PI.UTIL.OFUSA              0.000000\n",
       "POPULATION                 0.000000\n",
       "POPPCT_URBAN               0.000000\n",
       "POPPCT_UC                  0.000000\n",
       "POPDEN_URBAN               0.000000\n",
       "POPDEN_UC                  0.006519\n",
       "POPDEN_RURAL               0.006519\n",
       "AREAPCT_URBAN              0.000000\n",
       "AREAPCT_UC                 0.000000\n",
       "PCT_LAND                   0.000000\n",
       "PCT_WATER_TOT              0.000000\n",
       "PCT_WATER_INLAND           0.000000\n",
       "dtype: float64"
      ]
     },
     "execution_count": 3,
     "metadata": {},
     "output_type": "execute_result"
    }
   ],
   "source": [
    "outage.isnull().mean()"
   ]
  },
  {
   "cell_type": "code",
   "execution_count": 4,
   "metadata": {
    "scrolled": false
   },
   "outputs": [
    {
     "data": {
      "text/html": [
       "<div>\n",
       "<style scoped>\n",
       "    .dataframe tbody tr th:only-of-type {\n",
       "        vertical-align: middle;\n",
       "    }\n",
       "\n",
       "    .dataframe tbody tr th {\n",
       "        vertical-align: top;\n",
       "    }\n",
       "\n",
       "    .dataframe thead th {\n",
       "        text-align: right;\n",
       "    }\n",
       "</style>\n",
       "<table border=\"1\" class=\"dataframe\">\n",
       "  <thead>\n",
       "    <tr style=\"text-align: right;\">\n",
       "      <th></th>\n",
       "      <th>OBS</th>\n",
       "      <th>YEAR</th>\n",
       "      <th>MONTH</th>\n",
       "      <th>U.S._STATE</th>\n",
       "      <th>POSTAL.CODE</th>\n",
       "      <th>NERC.REGION</th>\n",
       "      <th>CLIMATE.REGION</th>\n",
       "      <th>ANOMALY.LEVEL</th>\n",
       "      <th>CLIMATE.CATEGORY</th>\n",
       "      <th>OUTAGE.START.DATE</th>\n",
       "      <th>...</th>\n",
       "      <th>POPPCT_URBAN</th>\n",
       "      <th>POPPCT_UC</th>\n",
       "      <th>POPDEN_URBAN</th>\n",
       "      <th>POPDEN_UC</th>\n",
       "      <th>POPDEN_RURAL</th>\n",
       "      <th>AREAPCT_URBAN</th>\n",
       "      <th>AREAPCT_UC</th>\n",
       "      <th>PCT_LAND</th>\n",
       "      <th>PCT_WATER_TOT</th>\n",
       "      <th>PCT_WATER_INLAND</th>\n",
       "    </tr>\n",
       "  </thead>\n",
       "  <tbody>\n",
       "    <tr>\n",
       "      <th>1</th>\n",
       "      <td>1</td>\n",
       "      <td>2011</td>\n",
       "      <td>7.0</td>\n",
       "      <td>Minnesota</td>\n",
       "      <td>MN</td>\n",
       "      <td>MRO</td>\n",
       "      <td>East North Central</td>\n",
       "      <td>-0.3</td>\n",
       "      <td>normal</td>\n",
       "      <td>2011-07-01 00:00:00</td>\n",
       "      <td>...</td>\n",
       "      <td>73.27</td>\n",
       "      <td>15.28</td>\n",
       "      <td>2279</td>\n",
       "      <td>1700.5</td>\n",
       "      <td>18.2</td>\n",
       "      <td>2.14</td>\n",
       "      <td>0.6</td>\n",
       "      <td>91.592666</td>\n",
       "      <td>8.407334</td>\n",
       "      <td>5.478743</td>\n",
       "    </tr>\n",
       "    <tr>\n",
       "      <th>2</th>\n",
       "      <td>2</td>\n",
       "      <td>2014</td>\n",
       "      <td>5.0</td>\n",
       "      <td>Minnesota</td>\n",
       "      <td>MN</td>\n",
       "      <td>MRO</td>\n",
       "      <td>East North Central</td>\n",
       "      <td>-0.1</td>\n",
       "      <td>normal</td>\n",
       "      <td>2014-05-11 00:00:00</td>\n",
       "      <td>...</td>\n",
       "      <td>73.27</td>\n",
       "      <td>15.28</td>\n",
       "      <td>2279</td>\n",
       "      <td>1700.5</td>\n",
       "      <td>18.2</td>\n",
       "      <td>2.14</td>\n",
       "      <td>0.6</td>\n",
       "      <td>91.592666</td>\n",
       "      <td>8.407334</td>\n",
       "      <td>5.478743</td>\n",
       "    </tr>\n",
       "    <tr>\n",
       "      <th>3</th>\n",
       "      <td>3</td>\n",
       "      <td>2010</td>\n",
       "      <td>10.0</td>\n",
       "      <td>Minnesota</td>\n",
       "      <td>MN</td>\n",
       "      <td>MRO</td>\n",
       "      <td>East North Central</td>\n",
       "      <td>-1.5</td>\n",
       "      <td>cold</td>\n",
       "      <td>2010-10-26 00:00:00</td>\n",
       "      <td>...</td>\n",
       "      <td>73.27</td>\n",
       "      <td>15.28</td>\n",
       "      <td>2279</td>\n",
       "      <td>1700.5</td>\n",
       "      <td>18.2</td>\n",
       "      <td>2.14</td>\n",
       "      <td>0.6</td>\n",
       "      <td>91.592666</td>\n",
       "      <td>8.407334</td>\n",
       "      <td>5.478743</td>\n",
       "    </tr>\n",
       "    <tr>\n",
       "      <th>4</th>\n",
       "      <td>4</td>\n",
       "      <td>2012</td>\n",
       "      <td>6.0</td>\n",
       "      <td>Minnesota</td>\n",
       "      <td>MN</td>\n",
       "      <td>MRO</td>\n",
       "      <td>East North Central</td>\n",
       "      <td>-0.1</td>\n",
       "      <td>normal</td>\n",
       "      <td>2012-06-19 00:00:00</td>\n",
       "      <td>...</td>\n",
       "      <td>73.27</td>\n",
       "      <td>15.28</td>\n",
       "      <td>2279</td>\n",
       "      <td>1700.5</td>\n",
       "      <td>18.2</td>\n",
       "      <td>2.14</td>\n",
       "      <td>0.6</td>\n",
       "      <td>91.592666</td>\n",
       "      <td>8.407334</td>\n",
       "      <td>5.478743</td>\n",
       "    </tr>\n",
       "    <tr>\n",
       "      <th>5</th>\n",
       "      <td>5</td>\n",
       "      <td>2015</td>\n",
       "      <td>7.0</td>\n",
       "      <td>Minnesota</td>\n",
       "      <td>MN</td>\n",
       "      <td>MRO</td>\n",
       "      <td>East North Central</td>\n",
       "      <td>1.2</td>\n",
       "      <td>warm</td>\n",
       "      <td>2015-07-18 00:00:00</td>\n",
       "      <td>...</td>\n",
       "      <td>73.27</td>\n",
       "      <td>15.28</td>\n",
       "      <td>2279</td>\n",
       "      <td>1700.5</td>\n",
       "      <td>18.2</td>\n",
       "      <td>2.14</td>\n",
       "      <td>0.6</td>\n",
       "      <td>91.592666</td>\n",
       "      <td>8.407334</td>\n",
       "      <td>5.478743</td>\n",
       "    </tr>\n",
       "  </tbody>\n",
       "</table>\n",
       "<p>5 rows × 56 columns</p>\n",
       "</div>"
      ],
      "text/plain": [
       "   OBS  YEAR  MONTH U.S._STATE POSTAL.CODE NERC.REGION      CLIMATE.REGION  \\\n",
       "1    1  2011    7.0  Minnesota          MN         MRO  East North Central   \n",
       "2    2  2014    5.0  Minnesota          MN         MRO  East North Central   \n",
       "3    3  2010   10.0  Minnesota          MN         MRO  East North Central   \n",
       "4    4  2012    6.0  Minnesota          MN         MRO  East North Central   \n",
       "5    5  2015    7.0  Minnesota          MN         MRO  East North Central   \n",
       "\n",
       "   ANOMALY.LEVEL CLIMATE.CATEGORY    OUTAGE.START.DATE  ... POPPCT_URBAN  \\\n",
       "1           -0.3           normal  2011-07-01 00:00:00  ...        73.27   \n",
       "2           -0.1           normal  2014-05-11 00:00:00  ...        73.27   \n",
       "3           -1.5             cold  2010-10-26 00:00:00  ...        73.27   \n",
       "4           -0.1           normal  2012-06-19 00:00:00  ...        73.27   \n",
       "5            1.2             warm  2015-07-18 00:00:00  ...        73.27   \n",
       "\n",
       "  POPPCT_UC POPDEN_URBAN POPDEN_UC POPDEN_RURAL AREAPCT_URBAN  AREAPCT_UC  \\\n",
       "1     15.28         2279    1700.5         18.2          2.14         0.6   \n",
       "2     15.28         2279    1700.5         18.2          2.14         0.6   \n",
       "3     15.28         2279    1700.5         18.2          2.14         0.6   \n",
       "4     15.28         2279    1700.5         18.2          2.14         0.6   \n",
       "5     15.28         2279    1700.5         18.2          2.14         0.6   \n",
       "\n",
       "    PCT_LAND  PCT_WATER_TOT  PCT_WATER_INLAND  \n",
       "1  91.592666       8.407334          5.478743  \n",
       "2  91.592666       8.407334          5.478743  \n",
       "3  91.592666       8.407334          5.478743  \n",
       "4  91.592666       8.407334          5.478743  \n",
       "5  91.592666       8.407334          5.478743  \n",
       "\n",
       "[5 rows x 56 columns]"
      ]
     },
     "execution_count": 4,
     "metadata": {},
     "output_type": "execute_result"
    }
   ],
   "source": [
    " # Assign data types for each variable\n",
    "dtype_dict = {\"OBS\": int, \"YEAR\": int, \"MONTH\": float, \"U.S._STATE\": str, \"POSTAL.CODE\": str, \"NERC.REGION\": str, \n",
    "              \"CLIMATE.REGION\": str, \"ANOMALY.LEVEL\": float, \"CLIMATE.CATEGORY\": str, \"CAUSE.CATEGORY\": str, \n",
    "              \"CAUSE.CATEGORY.DETAIL\": str, \"HURRICANE.NAMES\": str, \"OUTAGE.DURATION\": float, \n",
    "              \"DEMAND.LOSS.MW\": float, \"CUSTOMERS.AFFECTED\": float, \"RES.PRICE\": float, \"COM.PRICE\": float, \n",
    "              \"IND.PRICE\": float, \"TOTAL.PRICE\": float, \"RES.SALES\": float, \"COM.SALES\": float, \"IND.SALES\": float, \n",
    "              \"TOTAL.SALES\": float, \"RES.PERCEN\": float, \"COM.PERCEN\": float, \"IND.PERCEN\": float, \n",
    "              \"RES.CUSTOMERS\": int, \"COM.CUSTOMERS\": int, \"IND.CUSTOMERS\": int, \"TOTAL.CUSTOMERS\": int, \n",
    "              \"RES.CUST.PCT\": float, \"COM.CUST.PCT\": float, \"IND.CUST.PCT\": float, \"PC.REALGSP.STATE\": int, \n",
    "              \"PC.REALGSP.USA\": int, \"PC.REALGSP.REL\": float, \"PC.REALGSP.CHANGE\": float, \"UTIL.REALGSP\": int, \n",
    "              \"TOTAL.REALGSP\": int, \"UTIL.CONTRI\": float, \"PI.UTIL.OFUSA\": float, \"POPULATION\": int,\n",
    "              \"POPPCT_URBAN\": float, \"POPPCT_UC\": float, \"POPDEN_URBAN\": int, \"POPDEN_UC\": float, \"POPDEN_RURAL\": float, \n",
    "              \"AREAPCT_URBAN\": float, \"AREAPCT_UC\": float,  \"PCT_LAND\": float, \"PCT_WATER_TOT\": float, \"PCT_WATER_INLAND\": float}\n",
    "\n",
    "outage = outage.astype(dtype_dict).replace(\"nan\", np.nan) # Cast the data frame as designed\n",
    "outage.head()"
   ]
  },
  {
   "cell_type": "markdown",
   "metadata": {},
   "source": [
    " "
   ]
  },
  {
   "cell_type": "markdown",
   "metadata": {},
   "source": [
    "**Time manipulations for relevant columns**\n",
    "\n",
    "Combine the date and time columns as a whole for `OUTAGE.START` and `OUTAGE.RESTORATION`. Change the type of column `OUTAGE.DURATION` from `int` to `timedelta`."
   ]
  },
  {
   "cell_type": "code",
   "execution_count": 5,
   "metadata": {},
   "outputs": [],
   "source": [
    "# This method combines datetime.date and datetime.time to a complete datetime object\n",
    "def combine_date_time(df):\n",
    "    if df.isnull().any():\n",
    "        return np.nan\n",
    "    else:\n",
    "        return datetime.datetime.combine(df[0], df[1])\n",
    "\n",
    "month_dict = {1: \"JAN\", 2: \"FEB\", 3: \"MAR\", 4: \"APR\", 5: \"MAY\", 6: \"JUN\", 7: \"JUL\", 8: \"AUG\", 9: \"SEP\", 10: \"OCT\", 11: \"NOV\", 12: \"DEC\"}\n",
    "def assign_month(num):\n",
    "    if num in month_dict.keys():\n",
    "        return month_dict[num]\n",
    "    else:\n",
    "        return np.nan"
   ]
  },
  {
   "cell_type": "code",
   "execution_count": 6,
   "metadata": {
    "scrolled": false
   },
   "outputs": [
    {
     "data": {
      "text/html": [
       "<div>\n",
       "<style scoped>\n",
       "    .dataframe tbody tr th:only-of-type {\n",
       "        vertical-align: middle;\n",
       "    }\n",
       "\n",
       "    .dataframe tbody tr th {\n",
       "        vertical-align: top;\n",
       "    }\n",
       "\n",
       "    .dataframe thead th {\n",
       "        text-align: right;\n",
       "    }\n",
       "</style>\n",
       "<table border=\"1\" class=\"dataframe\">\n",
       "  <thead>\n",
       "    <tr style=\"text-align: right;\">\n",
       "      <th></th>\n",
       "      <th>OBS</th>\n",
       "      <th>YEAR</th>\n",
       "      <th>MONTH</th>\n",
       "      <th>U.S._STATE</th>\n",
       "      <th>POSTAL.CODE</th>\n",
       "      <th>NERC.REGION</th>\n",
       "      <th>CLIMATE.REGION</th>\n",
       "      <th>ANOMALY.LEVEL</th>\n",
       "      <th>CLIMATE.CATEGORY</th>\n",
       "      <th>OUTAGE.START</th>\n",
       "      <th>...</th>\n",
       "      <th>POPPCT_URBAN</th>\n",
       "      <th>POPPCT_UC</th>\n",
       "      <th>POPDEN_URBAN</th>\n",
       "      <th>POPDEN_UC</th>\n",
       "      <th>POPDEN_RURAL</th>\n",
       "      <th>AREAPCT_URBAN</th>\n",
       "      <th>AREAPCT_UC</th>\n",
       "      <th>PCT_LAND</th>\n",
       "      <th>PCT_WATER_TOT</th>\n",
       "      <th>PCT_WATER_INLAND</th>\n",
       "    </tr>\n",
       "  </thead>\n",
       "  <tbody>\n",
       "    <tr>\n",
       "      <th>1</th>\n",
       "      <td>1</td>\n",
       "      <td>2011</td>\n",
       "      <td>JUL</td>\n",
       "      <td>Minnesota</td>\n",
       "      <td>MN</td>\n",
       "      <td>MRO</td>\n",
       "      <td>East North Central</td>\n",
       "      <td>-0.3</td>\n",
       "      <td>normal</td>\n",
       "      <td>2011-07-01 17:00:00</td>\n",
       "      <td>...</td>\n",
       "      <td>73.27</td>\n",
       "      <td>15.28</td>\n",
       "      <td>2279</td>\n",
       "      <td>1700.5</td>\n",
       "      <td>18.2</td>\n",
       "      <td>2.14</td>\n",
       "      <td>0.6</td>\n",
       "      <td>91.592666</td>\n",
       "      <td>8.407334</td>\n",
       "      <td>5.478743</td>\n",
       "    </tr>\n",
       "    <tr>\n",
       "      <th>2</th>\n",
       "      <td>2</td>\n",
       "      <td>2014</td>\n",
       "      <td>MAY</td>\n",
       "      <td>Minnesota</td>\n",
       "      <td>MN</td>\n",
       "      <td>MRO</td>\n",
       "      <td>East North Central</td>\n",
       "      <td>-0.1</td>\n",
       "      <td>normal</td>\n",
       "      <td>2014-05-11 18:38:00</td>\n",
       "      <td>...</td>\n",
       "      <td>73.27</td>\n",
       "      <td>15.28</td>\n",
       "      <td>2279</td>\n",
       "      <td>1700.5</td>\n",
       "      <td>18.2</td>\n",
       "      <td>2.14</td>\n",
       "      <td>0.6</td>\n",
       "      <td>91.592666</td>\n",
       "      <td>8.407334</td>\n",
       "      <td>5.478743</td>\n",
       "    </tr>\n",
       "    <tr>\n",
       "      <th>3</th>\n",
       "      <td>3</td>\n",
       "      <td>2010</td>\n",
       "      <td>OCT</td>\n",
       "      <td>Minnesota</td>\n",
       "      <td>MN</td>\n",
       "      <td>MRO</td>\n",
       "      <td>East North Central</td>\n",
       "      <td>-1.5</td>\n",
       "      <td>cold</td>\n",
       "      <td>2010-10-26 20:00:00</td>\n",
       "      <td>...</td>\n",
       "      <td>73.27</td>\n",
       "      <td>15.28</td>\n",
       "      <td>2279</td>\n",
       "      <td>1700.5</td>\n",
       "      <td>18.2</td>\n",
       "      <td>2.14</td>\n",
       "      <td>0.6</td>\n",
       "      <td>91.592666</td>\n",
       "      <td>8.407334</td>\n",
       "      <td>5.478743</td>\n",
       "    </tr>\n",
       "    <tr>\n",
       "      <th>4</th>\n",
       "      <td>4</td>\n",
       "      <td>2012</td>\n",
       "      <td>JUN</td>\n",
       "      <td>Minnesota</td>\n",
       "      <td>MN</td>\n",
       "      <td>MRO</td>\n",
       "      <td>East North Central</td>\n",
       "      <td>-0.1</td>\n",
       "      <td>normal</td>\n",
       "      <td>2012-06-19 04:30:00</td>\n",
       "      <td>...</td>\n",
       "      <td>73.27</td>\n",
       "      <td>15.28</td>\n",
       "      <td>2279</td>\n",
       "      <td>1700.5</td>\n",
       "      <td>18.2</td>\n",
       "      <td>2.14</td>\n",
       "      <td>0.6</td>\n",
       "      <td>91.592666</td>\n",
       "      <td>8.407334</td>\n",
       "      <td>5.478743</td>\n",
       "    </tr>\n",
       "    <tr>\n",
       "      <th>5</th>\n",
       "      <td>5</td>\n",
       "      <td>2015</td>\n",
       "      <td>JUL</td>\n",
       "      <td>Minnesota</td>\n",
       "      <td>MN</td>\n",
       "      <td>MRO</td>\n",
       "      <td>East North Central</td>\n",
       "      <td>1.2</td>\n",
       "      <td>warm</td>\n",
       "      <td>2015-07-18 02:00:00</td>\n",
       "      <td>...</td>\n",
       "      <td>73.27</td>\n",
       "      <td>15.28</td>\n",
       "      <td>2279</td>\n",
       "      <td>1700.5</td>\n",
       "      <td>18.2</td>\n",
       "      <td>2.14</td>\n",
       "      <td>0.6</td>\n",
       "      <td>91.592666</td>\n",
       "      <td>8.407334</td>\n",
       "      <td>5.478743</td>\n",
       "    </tr>\n",
       "  </tbody>\n",
       "</table>\n",
       "<p>5 rows × 54 columns</p>\n",
       "</div>"
      ],
      "text/plain": [
       "   OBS  YEAR MONTH U.S._STATE POSTAL.CODE NERC.REGION      CLIMATE.REGION  \\\n",
       "1    1  2011   JUL  Minnesota          MN         MRO  East North Central   \n",
       "2    2  2014   MAY  Minnesota          MN         MRO  East North Central   \n",
       "3    3  2010   OCT  Minnesota          MN         MRO  East North Central   \n",
       "4    4  2012   JUN  Minnesota          MN         MRO  East North Central   \n",
       "5    5  2015   JUL  Minnesota          MN         MRO  East North Central   \n",
       "\n",
       "   ANOMALY.LEVEL CLIMATE.CATEGORY        OUTAGE.START  ... POPPCT_URBAN  \\\n",
       "1           -0.3           normal 2011-07-01 17:00:00  ...        73.27   \n",
       "2           -0.1           normal 2014-05-11 18:38:00  ...        73.27   \n",
       "3           -1.5             cold 2010-10-26 20:00:00  ...        73.27   \n",
       "4           -0.1           normal 2012-06-19 04:30:00  ...        73.27   \n",
       "5            1.2             warm 2015-07-18 02:00:00  ...        73.27   \n",
       "\n",
       "  POPPCT_UC POPDEN_URBAN POPDEN_UC  POPDEN_RURAL  AREAPCT_URBAN  AREAPCT_UC  \\\n",
       "1     15.28         2279    1700.5          18.2           2.14         0.6   \n",
       "2     15.28         2279    1700.5          18.2           2.14         0.6   \n",
       "3     15.28         2279    1700.5          18.2           2.14         0.6   \n",
       "4     15.28         2279    1700.5          18.2           2.14         0.6   \n",
       "5     15.28         2279    1700.5          18.2           2.14         0.6   \n",
       "\n",
       "    PCT_LAND  PCT_WATER_TOT  PCT_WATER_INLAND  \n",
       "1  91.592666       8.407334          5.478743  \n",
       "2  91.592666       8.407334          5.478743  \n",
       "3  91.592666       8.407334          5.478743  \n",
       "4  91.592666       8.407334          5.478743  \n",
       "5  91.592666       8.407334          5.478743  \n",
       "\n",
       "[5 rows x 54 columns]"
      ]
     },
     "execution_count": 6,
     "metadata": {},
     "output_type": "execute_result"
    }
   ],
   "source": [
    "outage = (\n",
    "    outage\n",
    "    .assign(\n",
    "        **{\"MONTH\": outage[\"MONTH\"].apply(assign_month),\n",
    "           \"OUTAGE.START.TIME\": outage[[\"OUTAGE.START.DATE\", \"OUTAGE.START.TIME\"]].apply(combine_date_time,axis=1),\n",
    "           \"OUTAGE.RESTORATION.TIME\": outage[[\"OUTAGE.RESTORATION.DATE\", \"OUTAGE.RESTORATION.TIME\"]].apply(combine_date_time,axis=1)\n",
    "           })\n",
    "    .rename(columns={\"OUTAGE.START.TIME\": \"OUTAGE.START\", \"OUTAGE.RESTORATION.TIME\": \"OUTAGE.RESTORATION\"})\n",
    "    .drop([\"OUTAGE.START.DATE\", \"OUTAGE.RESTORATION.DATE\"], axis=1)\n",
    ")\n",
    "outage.head()"
   ]
  },
  {
   "cell_type": "markdown",
   "metadata": {},
   "source": [
    " "
   ]
  },
  {
   "cell_type": "markdown",
   "metadata": {},
   "source": [
    " **Univariate Analysis**\n",
    "\n",
    "Analyze the distribution of `OUTAGE.RESTORATION`."
   ]
  },
  {
   "cell_type": "code",
   "execution_count": 7,
   "metadata": {},
   "outputs": [
    {
     "data": {
      "text/plain": [
       "<matplotlib.axes._subplots.AxesSubplot at 0x205c8bfd648>"
      ]
     },
     "execution_count": 7,
     "metadata": {},
     "output_type": "execute_result"
    },
    {
     "data": {
      "image/png": "[encoded data removed]",
      "text/plain": [
       "<Figure size 432x288 with 1 Axes>"
      ]
     },
     "metadata": {
      "image/png": {
       "height": 263,
       "width": 405
      },
      "needs_background": "light"
     },
     "output_type": "display_data"
    }
   ],
   "source": [
    "outage[\"OUTAGE.DURATION\"].plot(kind=\"line\", title=\"Distribution of OUTAGE.DURATION\")"
   ]
  },
  {
   "cell_type": "markdown",
   "metadata": {},
   "source": [
    "Notice that there are several peak values in the plot above. Since this variable is about time duration, these peak values become suspicious. We further analyze the abnormal peak values with `.value_counts()` function."
   ]
  },
  {
   "cell_type": "code",
   "execution_count": 8,
   "metadata": {},
   "outputs": [
    {
     "data": {
      "text/plain": [
       "1.0       97\n",
       "0.0       78\n",
       "2880.0    15\n",
       "60.0      14\n",
       "300.0     14\n",
       "          ..\n",
       "1072.0     1\n",
       "324.0      1\n",
       "166.0      1\n",
       "234.0      1\n",
       "1414.0     1\n",
       "Name: OUTAGE.DURATION, Length: 852, dtype: int64"
      ]
     },
     "execution_count": 8,
     "metadata": {},
     "output_type": "execute_result"
    }
   ],
   "source": [
    "duration_distr = outage[\"OUTAGE.DURATION\"].value_counts()\n",
    "duration_distr"
   ]
  },
  {
   "cell_type": "code",
   "execution_count": 9,
   "metadata": {},
   "outputs": [
    {
     "data": {
      "text/plain": [
       "TimedeltaIndex(['0 days 00:01:00', '0 days 00:00:00', '2 days 00:00:00',\n",
       "                '0 days 01:00:00', '0 days 05:00:00', '1 days 00:00:00',\n",
       "                '3 days 00:00:00', '0 days 00:05:00', '0 days 07:00:00',\n",
       "                '0 days 00:15:00'],\n",
       "               dtype='timedelta64[ns]', freq=None)"
      ]
     },
     "execution_count": 9,
     "metadata": {},
     "output_type": "execute_result"
    }
   ],
   "source": [
    "pd.to_timedelta(duration_distr.head(10).index, unit=\"minute\")"
   ]
  },
  {
   "cell_type": "markdown",
   "metadata": {},
   "source": [
    "**Findings:** As we can tell from the top 10 most frequent outage durations, the records are usually rounded to a general level (like x days or x hours). That makes each peak value representing all the actual outage durations in a range close to it."
   ]
  },
  {
   "cell_type": "markdown",
   "metadata": {},
   "source": [
    " "
   ]
  },
  {
   "cell_type": "markdown",
   "metadata": {},
   "source": [
    "**Bivariate Analysis**\n",
    "\n",
    "Investigate the severity of different `CAUSE.CATEGORY`. With all the varaibles provided, the severity of an outage can be characterized by both `OUTAGE.DURATION` and `CUSTOMERS.AFFECTED`. Use `mean` of the grouped data to plot on the scatter graph."
   ]
  },
  {
   "cell_type": "code",
   "execution_count": 10,
   "metadata": {
    "scrolled": false
   },
   "outputs": [
    {
     "data": {
      "text/plain": [
       "<matplotlib.axes._subplots.AxesSubplot at 0x205c95b3fc8>"
      ]
     },
     "execution_count": 10,
     "metadata": {},
     "output_type": "execute_result"
    },
    {
     "data": {
      "image/png": "[encoded data removed]",
      "text/plain": [
       "<Figure size 432x288 with 1 Axes>"
      ]
     },
     "metadata": {
      "image/png": {
       "height": 261,
       "width": 420
      },
      "needs_background": "light"
     },
     "output_type": "display_data"
    }
   ],
   "source": [
    "category_duration = outage.groupby(\"CAUSE.CATEGORY\").mean()[[\"OUTAGE.DURATION\", \"CUSTOMERS.AFFECTED\"]].reset_index()\n",
    "sns.scatterplot(data=category_duration, x='OUTAGE.DURATION', y='CUSTOMERS.AFFECTED', hue=\"CAUSE.CATEGORY\")"
   ]
  },
  {
   "cell_type": "markdown",
   "metadata": {},
   "source": [
    "**Conclusion:** \n",
    "\n",
    "As observed from the graph, we can have a rough estimation that an outage caused by `islanding`, `intentional attack`, or `public appeal` tends to have a low severity in terms of both duration and number of people affected.\n",
    "\n",
    "An outage of `fuel supply emergency`is significant for its long duration but it affects few people.\n",
    "\n",
    "On the other hand, `equipment failure`, `severe weather` and `system operability disruption` are the causes of outage that impact tons of people."
   ]
  },
  {
   "cell_type": "markdown",
   "metadata": {},
   "source": [
    " "
   ]
  },
  {
   "cell_type": "markdown",
   "metadata": {},
   "source": [
    "### Assessment of Missingness"
   ]
  },
  {
   "cell_type": "markdown",
   "metadata": {
    "scrolled": false
   },
   "source": [
    "**NMAR Assumption**\n",
    "\n",
    "Many columns in the `outage` dataset have missing values. However, I find most of the missingnesses have a better explanation other than NMAR.\n",
    "\n",
    "Though, a variable that can be explained by NMAR is `OUTAGE.RESTORATION`(aka the combination of `OUTAGE.RSTORATION.DATE` and `OUTAGE.RESTORATION.TIME`). The reason for this missingness might be:\n",
    "* The time at which the outage is fixed is unusual. For example, the job is done at night or during holidays so that the worker responsible for recording the time is not presenting.\n",
    "* It takes weeks or months to fix a problem, and they can no longer find the record corresponding to this report.\n",
    "\n",
    "Unfortunately, I don't think we can add more information to turn the missingness of `OUTAGE.RESTORATION` from NMAR to MAR."
   ]
  },
  {
   "cell_type": "markdown",
   "metadata": {},
   "source": [
    " "
   ]
  },
  {
   "cell_type": "markdown",
   "metadata": {},
   "source": [
    "**MAR Analysis**\n",
    "\n",
    "The column `CUSTOMERS.AFFECTED` has a non-trivial proportion of missingness and it is not intuitively clear which other variables may affect the missingness of `CUSTOMERS.AFFECTED`. So, I decided to perform a permutation test on `CUSTOMERS.AFFECTED` and a few selected columns to see if they are related to each other. For column with descrete values (basically non-quantitative ones), we apply tvd-test statistic; for continuous quantitative variables, we apply ks-test statistic. The threshold `p-value` is set to 0.05."
   ]
  },
  {
   "cell_type": "markdown",
   "metadata": {},
   "source": [
    "Variables of interest:"
   ]
  },
  {
   "cell_type": "code",
   "execution_count": 11,
   "metadata": {
    "ExecuteTime": {
     "end_time": "2019-10-31T23:36:28.662099Z",
     "start_time": "2019-10-31T23:36:28.660016Z"
    }
   },
   "outputs": [],
   "source": [
    "descrete_column_lst = [\"MONTH\", \"POSTAL.CODE\", \"CLIMATE.REGION\", \"CLIMATE.CATEGORY\", \"CAUSE.CATEGORY\"]\n",
    "continuous_column_lst = [\"ANOMALY.LEVEL\", \"TOTAL.PRICE\", \"TOTAL.SALES\", \"TOTAL.CUSTOMERS\", \"POPPCT_URBAN\", \"POPDEN_URBAN\"]"
   ]
  },
  {
   "cell_type": "markdown",
   "metadata": {},
   "source": [
    "Helper method to permute the `CUSTOMERS.AFFECTED` column:"
   ]
  },
  {
   "cell_type": "code",
   "execution_count": 12,
   "metadata": {},
   "outputs": [],
   "source": [
    "def permute_customers_affected(df):\n",
    "    return df.assign(**{\"CUSTOMERS.AFFECTED\": df[\"CUSTOMERS.AFFECTED\"].sample(replace=False, frac=1).reset_index(drop=True)})"
   ]
  },
  {
   "cell_type": "markdown",
   "metadata": {},
   "source": [
    "tvd test part:"
   ]
  },
  {
   "cell_type": "code",
   "execution_count": 13,
   "metadata": {},
   "outputs": [],
   "source": [
    "def tvd_stat(df):\n",
    "    variable_name = df.columns[1]\n",
    "    pt = df.assign(ISNULL=df[\"CUSTOMERS.AFFECTED\"].isnull()).pivot_table(index=[\"ISNULL\"], columns=[variable_name], aggfunc=\"size\")\n",
    "    return abs(pt.apply(lambda x: x / x.sum(), axis=1).diff()).sum().sum() / 2"
   ]
  },
  {
   "cell_type": "code",
   "execution_count": 14,
   "metadata": {},
   "outputs": [
    {
     "name": "stdout",
     "output_type": "stream",
     "text": [
      "MONTH : p-value =  0.0\n",
      "POSTAL.CODE : p-value =  0.0\n",
      "CLIMATE.REGION : p-value =  0.0\n",
      "CLIMATE.CATEGORY : p-value =  0.362\n",
      "CAUSE.CATEGORY : p-value =  0.0\n"
     ]
    }
   ],
   "source": [
    "num_perm = 500\n",
    "for column in descrete_column_lst:\n",
    "    subtbl = outage[[\"CUSTOMERS.AFFECTED\", column]]\n",
    "    real_stat = tvd_stat(subtbl)\n",
    "    test_stat = []\n",
    "    for _ in range(num_perm):\n",
    "        test_stat.append(tvd_stat(permute_customers_affected(subtbl)))\n",
    "    print(column, \": p-value = \", (test_stat >= real_stat).mean())"
   ]
  },
  {
   "cell_type": "markdown",
   "metadata": {},
   "source": [
    "ks test part:"
   ]
  },
  {
   "cell_type": "code",
   "execution_count": 15,
   "metadata": {},
   "outputs": [],
   "source": [
    "from scipy.stats import ks_2samp\n",
    "def ks_stat(df):\n",
    "    variable_name = df.columns[1]\n",
    "    gp1 = df.loc[df[\"CUSTOMERS.AFFECTED\"].isnull(), variable_name]\n",
    "    gp2 = df.loc[~df[\"CUSTOMERS.AFFECTED\"].isnull(), variable_name]\n",
    "    return ks_2samp(gp1, gp2).statistic"
   ]
  },
  {
   "cell_type": "code",
   "execution_count": 16,
   "metadata": {},
   "outputs": [
    {
     "name": "stdout",
     "output_type": "stream",
     "text": [
      "ANOMALY.LEVEL : p-value =  0.0\n",
      "TOTAL.PRICE : p-value =  0.242\n",
      "TOTAL.SALES : p-value =  0.0\n",
      "TOTAL.CUSTOMERS : p-value =  0.0\n",
      "POPPCT_URBAN : p-value =  0.0\n",
      "POPDEN_URBAN : p-value =  0.0\n"
     ]
    }
   ],
   "source": [
    "num_perm = 500\n",
    "for column in continuous_column_lst:\n",
    "    subtbl = outage[[\"CUSTOMERS.AFFECTED\", column]]\n",
    "    real_stat = ks_stat(subtbl)\n",
    "    test_stat = []\n",
    "    for _ in range(num_perm):\n",
    "        test_stat.append(ks_stat(permute_customers_affected(subtbl)))\n",
    "    print(column, \": p-value = \", (pd.Series(test_stat) >= real_stat).mean())"
   ]
  },
  {
   "cell_type": "markdown",
   "metadata": {},
   "source": [
    "**Conclusion:**\n",
    "\n",
    "The test statistics shows that many variables may correlate with the missingness of `CUSTOMERS.AFFECTED`.\n",
    "\n",
    "* Among them, `POSTAL.CODE`, `CLIMATE.REGION`, `ANOMALY.LEVEL` are geospatial data. This can be explained by the fact that different places have different standards of operation on recording the information of number of people affected. It is not statistically significant to say `CLIMATE.CATEGORY` is related to the missingess of `CUSTOMERS.AFFECTED` because we only see three categories available for this variable. It is very generalized so that geospatial differences can be balanced here.\n",
    "* `TOTAL.CUSTOMERS`, `POPPCT_URBAN`, `POPDEN_URBAN` are data about humanities. Different number of customers as well as different percentage of urban populations are usually related to different service standard from the local department.\n",
    "* different `MONTH` have different proportions of missingness. There may be some confounding factors about labor forces embedded in this relationship."
   ]
  },
  {
   "cell_type": "markdown",
   "metadata": {},
   "source": [
    "### Hypothesis Test"
   ]
  },
  {
   "cell_type": "markdown",
   "metadata": {},
   "source": [
    "As noticed from the Missingness part, `TOTAL.PRICE` is a factor that may influence the missingness of `OUTAGE.DURATION`. I interpret the underlying reason as the different service standards between rich developed areas and poor less developed areas. In this sector, we further investigate the difference in outage restoring service between the developed and less developed.\n",
    "\n",
    "We categorize all the observations into two parts, the \"higher pay rate part\" and the \"lower pay rate part\". The boundary is determined by the `median` of `TOTAL.PRICE` so that both groups have similar sample sizes. In theory, people in areas with higher pay rates should have a better service standard. That include a faster response to an outage. So, our hypotheses are defined as:\n",
    "* H0: The mean outage duration of higher pay rate group is **roughly the same** as that of lower pay rate group.\n",
    "* H1: The mean outage duration of higher pay rate group is **shorter** than that of lower pay rate group.\n",
    "\n",
    "We use `difference of means` as the test statistic, and set the critical `p-value` as 0.05."
   ]
  },
  {
   "cell_type": "markdown",
   "metadata": {},
   "source": [
    "Assign group for each observation and slice the table as small as we can."
   ]
  },
  {
   "cell_type": "code",
   "execution_count": 17,
   "metadata": {},
   "outputs": [
    {
     "data": {
      "text/html": [
       "<div>\n",
       "<style scoped>\n",
       "    .dataframe tbody tr th:only-of-type {\n",
       "        vertical-align: middle;\n",
       "    }\n",
       "\n",
       "    .dataframe tbody tr th {\n",
       "        vertical-align: top;\n",
       "    }\n",
       "\n",
       "    .dataframe thead th {\n",
       "        text-align: right;\n",
       "    }\n",
       "</style>\n",
       "<table border=\"1\" class=\"dataframe\">\n",
       "  <thead>\n",
       "    <tr style=\"text-align: right;\">\n",
       "      <th></th>\n",
       "      <th>OUTAGE.DURATION</th>\n",
       "      <th>HIGHER_PAY</th>\n",
       "    </tr>\n",
       "  </thead>\n",
       "  <tbody>\n",
       "    <tr>\n",
       "      <th>1</th>\n",
       "      <td>3060.0</td>\n",
       "      <td>False</td>\n",
       "    </tr>\n",
       "    <tr>\n",
       "      <th>2</th>\n",
       "      <td>1.0</td>\n",
       "      <td>False</td>\n",
       "    </tr>\n",
       "    <tr>\n",
       "      <th>3</th>\n",
       "      <td>3000.0</td>\n",
       "      <td>False</td>\n",
       "    </tr>\n",
       "    <tr>\n",
       "      <th>4</th>\n",
       "      <td>2550.0</td>\n",
       "      <td>False</td>\n",
       "    </tr>\n",
       "    <tr>\n",
       "      <th>5</th>\n",
       "      <td>1740.0</td>\n",
       "      <td>True</td>\n",
       "    </tr>\n",
       "    <tr>\n",
       "      <th>...</th>\n",
       "      <td>...</td>\n",
       "      <td>...</td>\n",
       "    </tr>\n",
       "    <tr>\n",
       "      <th>1530</th>\n",
       "      <td>720.0</td>\n",
       "      <td>False</td>\n",
       "    </tr>\n",
       "    <tr>\n",
       "      <th>1531</th>\n",
       "      <td>NaN</td>\n",
       "      <td>False</td>\n",
       "    </tr>\n",
       "    <tr>\n",
       "      <th>1532</th>\n",
       "      <td>59.0</td>\n",
       "      <td>False</td>\n",
       "    </tr>\n",
       "    <tr>\n",
       "      <th>1533</th>\n",
       "      <td>181.0</td>\n",
       "      <td>False</td>\n",
       "    </tr>\n",
       "    <tr>\n",
       "      <th>1534</th>\n",
       "      <td>NaN</td>\n",
       "      <td>False</td>\n",
       "    </tr>\n",
       "  </tbody>\n",
       "</table>\n",
       "<p>1534 rows × 2 columns</p>\n",
       "</div>"
      ],
      "text/plain": [
       "      OUTAGE.DURATION  HIGHER_PAY\n",
       "1              3060.0       False\n",
       "2                 1.0       False\n",
       "3              3000.0       False\n",
       "4              2550.0       False\n",
       "5              1740.0        True\n",
       "...               ...         ...\n",
       "1530            720.0       False\n",
       "1531              NaN       False\n",
       "1532             59.0       False\n",
       "1533            181.0       False\n",
       "1534              NaN       False\n",
       "\n",
       "[1534 rows x 2 columns]"
      ]
     },
     "execution_count": 17,
     "metadata": {},
     "output_type": "execute_result"
    }
   ],
   "source": [
    "outage_higher_pay = outage.assign(HIGHER_PAY=outage[\"TOTAL.PRICE\"] > outage[\"TOTAL.PRICE\"].median())[[\"OUTAGE.DURATION\", \"HIGHER_PAY\"]]\n",
    "outage_higher_pay"
   ]
  },
  {
   "cell_type": "markdown",
   "metadata": {},
   "source": [
    "Perform the test by bootstrap the sub table:"
   ]
  },
  {
   "cell_type": "code",
   "execution_count": 18,
   "metadata": {},
   "outputs": [],
   "source": [
    "def diff_of_means(df):\n",
    "    means = df.groupby(\"HIGHER_PAY\")[\"OUTAGE.DURATION\"].mean()\n",
    "    return means[False] - means[True]"
   ]
  },
  {
   "cell_type": "code",
   "execution_count": 19,
   "metadata": {
    "ExecuteTime": {
     "end_time": "2019-10-31T23:36:28.666489Z",
     "start_time": "2019-10-31T23:36:28.664381Z"
    }
   },
   "outputs": [
    {
     "name": "stdout",
     "output_type": "stream",
     "text": [
      "p_val =  0.479\n"
     ]
    }
   ],
   "source": [
    "real_stat = diff_of_means(outage_higher_pay)\n",
    "test_stat = []\n",
    "for _ in range(1000):\n",
    "    resample = outage_higher_pay.assign(HIGHER_PAY=outage_higher_pay[\"HIGHER_PAY\"].sample(replace=False, frac=1).reset_index(drop=True))\n",
    "    test_stat.append(diff_of_means(resample))\n",
    "print(\"p_val = \", (test_stat > real_stat).mean())"
   ]
  },
  {
   "cell_type": "markdown",
   "metadata": {},
   "source": [
    "**Conclusion:** This p-value shows that we failed to reject H0, so we would prefer to say the mean outage duration for the higher pay rate group is the same as the lower pay rate group."
   ]
  },
  {
   "cell_type": "markdown",
   "metadata": {},
   "source": [
    "### Revised Hypothesis Test"
   ]
  },
  {
   "cell_type": "markdown",
   "metadata": {},
   "source": [
    "The result above is against our presumption and I want to figure out the reason why. Recalling the scatter plot of the severity of different types of outages in the previous part, I noticed that \"fuel supply emergency\" dominates the duration of the outages. Is it possible that our test statistic is affected by the fact that higher pay rate areas are using much more energy, hence creating most of the \"fuel supply emergency\" in our record?"
   ]
  },
  {
   "cell_type": "code",
   "execution_count": 20,
   "metadata": {},
   "outputs": [
    {
     "data": {
      "text/plain": [
       "0.7450980392156863"
      ]
     },
     "execution_count": 20,
     "metadata": {},
     "output_type": "execute_result"
    }
   ],
   "source": [
    "# Invstigate the proportion of fuel supply emergency in higher pay rate areas\n",
    "(\n",
    "    outage\n",
    "    .assign(HIGHER_PAY=outage[\"TOTAL.PRICE\"] > outage[\"TOTAL.PRICE\"].median())\n",
    "    .loc[outage[\"CAUSE.CATEGORY\"] == \"fuel supply emergency\"]\n",
    "    [\"HIGHER_PAY\"]\n",
    "    .mean()\n",
    ")"
   ]
  },
  {
   "cell_type": "markdown",
   "metadata": {},
   "source": [
    "It turns out that around three quarters of the fuel supply emergency outages happened in the higher pay rate areas. This may largely increase the general mean value we calculated for this group, and it cannot reveal the true situation of the average respond time in other categories. So, I decided to romove this part of the data from the data set, and try the same hypothesis test again.\n",
    "\n",
    "* H0: The mean outage duration (without fuel supply emergency outages) of higher pay rate group is **roughly the same** as that of lower pay rate group.\n",
    "* H1: The mean outage duration (without fuel supply emergency outages) of higher pay rate group is **shorter** than that of lower pay rate group.\n",
    "\n",
    "We still use `difference of means` as the test statistic, and set the critical `p-value` as 0.05."
   ]
  },
  {
   "cell_type": "code",
   "execution_count": 21,
   "metadata": {},
   "outputs": [
    {
     "data": {
      "text/html": [
       "<div>\n",
       "<style scoped>\n",
       "    .dataframe tbody tr th:only-of-type {\n",
       "        vertical-align: middle;\n",
       "    }\n",
       "\n",
       "    .dataframe tbody tr th {\n",
       "        vertical-align: top;\n",
       "    }\n",
       "\n",
       "    .dataframe thead th {\n",
       "        text-align: right;\n",
       "    }\n",
       "</style>\n",
       "<table border=\"1\" class=\"dataframe\">\n",
       "  <thead>\n",
       "    <tr style=\"text-align: right;\">\n",
       "      <th></th>\n",
       "      <th>OUTAGE.DURATION</th>\n",
       "      <th>HIGHER_PAY</th>\n",
       "    </tr>\n",
       "  </thead>\n",
       "  <tbody>\n",
       "    <tr>\n",
       "      <th>1</th>\n",
       "      <td>3060.0</td>\n",
       "      <td>False</td>\n",
       "    </tr>\n",
       "    <tr>\n",
       "      <th>2</th>\n",
       "      <td>1.0</td>\n",
       "      <td>False</td>\n",
       "    </tr>\n",
       "    <tr>\n",
       "      <th>3</th>\n",
       "      <td>3000.0</td>\n",
       "      <td>False</td>\n",
       "    </tr>\n",
       "    <tr>\n",
       "      <th>4</th>\n",
       "      <td>2550.0</td>\n",
       "      <td>False</td>\n",
       "    </tr>\n",
       "    <tr>\n",
       "      <th>5</th>\n",
       "      <td>1740.0</td>\n",
       "      <td>True</td>\n",
       "    </tr>\n",
       "    <tr>\n",
       "      <th>...</th>\n",
       "      <td>...</td>\n",
       "      <td>...</td>\n",
       "    </tr>\n",
       "    <tr>\n",
       "      <th>1529</th>\n",
       "      <td>220.0</td>\n",
       "      <td>False</td>\n",
       "    </tr>\n",
       "    <tr>\n",
       "      <th>1530</th>\n",
       "      <td>720.0</td>\n",
       "      <td>False</td>\n",
       "    </tr>\n",
       "    <tr>\n",
       "      <th>1532</th>\n",
       "      <td>59.0</td>\n",
       "      <td>False</td>\n",
       "    </tr>\n",
       "    <tr>\n",
       "      <th>1533</th>\n",
       "      <td>181.0</td>\n",
       "      <td>False</td>\n",
       "    </tr>\n",
       "    <tr>\n",
       "      <th>1534</th>\n",
       "      <td>NaN</td>\n",
       "      <td>False</td>\n",
       "    </tr>\n",
       "  </tbody>\n",
       "</table>\n",
       "<p>1483 rows × 2 columns</p>\n",
       "</div>"
      ],
      "text/plain": [
       "      OUTAGE.DURATION  HIGHER_PAY\n",
       "1              3060.0       False\n",
       "2                 1.0       False\n",
       "3              3000.0       False\n",
       "4              2550.0       False\n",
       "5              1740.0        True\n",
       "...               ...         ...\n",
       "1529            220.0       False\n",
       "1530            720.0       False\n",
       "1532             59.0       False\n",
       "1533            181.0       False\n",
       "1534              NaN       False\n",
       "\n",
       "[1483 rows x 2 columns]"
      ]
     },
     "execution_count": 21,
     "metadata": {},
     "output_type": "execute_result"
    }
   ],
   "source": [
    "outage_higher_pay_revised = (\n",
    "    outage\n",
    "    .assign(HIGHER_PAY=outage[\"TOTAL.PRICE\"] > outage[\"TOTAL.PRICE\"].median())\n",
    "    .loc[outage[\"CAUSE.CATEGORY\"] != \"fuel supply emergency\"]\n",
    "    [[\"OUTAGE.DURATION\", \"HIGHER_PAY\"]]\n",
    ")\n",
    "outage_higher_pay_revised"
   ]
  },
  {
   "cell_type": "code",
   "execution_count": 22,
   "metadata": {},
   "outputs": [
    {
     "name": "stdout",
     "output_type": "stream",
     "text": [
      "p_val(revised) =  0.042\n"
     ]
    }
   ],
   "source": [
    "# Perform the bootstrap test again\n",
    "real_stat = diff_of_means(outage_higher_pay_revised)\n",
    "test_stat = []\n",
    "for _ in range(1000):\n",
    "    resample = (\n",
    "        outage_higher_pay_revised\n",
    "        .assign(HIGHER_PAY=outage_higher_pay_revised[\"HIGHER_PAY\"].sample(replace=False, frac=1).reset_index(drop=True))\n",
    "    )\n",
    "    test_stat.append(diff_of_means(resample))\n",
    "print(\"p_val(revised) = \", (test_stat > real_stat).mean())"
   ]
  },
  {
   "cell_type": "markdown",
   "metadata": {},
   "source": [
    "**Conclusion:** Now, after removing the outages due to fuel supply emergency, the difference between two groups is statistically significant for us to conclude that higher pay rate groups receives a faster respond time than lower pay rate groups in fixing outages."
   ]
  }
 ],
 "metadata": {
  "kernelspec": {
   "display_name": "Python 3",
   "language": "python",
   "name": "python3"
  },
  "language_info": {
   "codemirror_mode": {
    "name": "ipython",
    "version": 3
   },
   "file_extension": ".py",
   "mimetype": "text/x-python",
   "name": "python",
   "nbconvert_exporter": "python",
   "pygments_lexer": "ipython3",
   "version": "3.7.6"
  }
 },
 "nbformat": 4,
 "nbformat_minor": 2
}
