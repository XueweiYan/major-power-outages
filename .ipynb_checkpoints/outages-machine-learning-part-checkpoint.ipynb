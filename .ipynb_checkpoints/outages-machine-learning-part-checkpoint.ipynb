{
 "cells": [
  {
   "cell_type": "markdown",
   "metadata": {},
   "source": [
    "# Power Outages Machine Learning Part\n",
    "This part of the project focus on performing a machine learning on `OUTAGE.DURATION` column of the dataset. It aims to predict the duration of any future outages based on the information from the current records.\n",
    "\n",
    "The dataset of `outages.xlsx` contains major power outage data in the continental U.S. from January 2000 to July 2016. Here, a major power  outage is defined as a power outage that impacted at least 50,000 customers or caused an unplanned firm load loss of atleast 300MW. The data is downloadable from [this link](https://engineering.purdue.edu/LASCI/research-data/outages/outagerisks). The dictionary of this dataset is provided at this [article](https://www.sciencedirect.com/science/article/pii/S2352340918307182) under *Table 1. Variable descriptions*."
   ]
  },
  {
   "cell_type": "markdown",
   "metadata": {},
   "source": [
    "# Summary of Findings\n",
    "\n",
    "\n",
    "### Introduction\n",
    "The dataset of major power outages contains many variables that power station officers are interested in. These records may help them allocate human recourses with a confident plan. However, this is what I actually care about during a power outage as a customer: \"When can our power be restored? How much time do I still have to wait?\" Needless to say, if power stations can release the notification of outage together with an estimated restoration time, citizens will be able to plan their lives accordingly. So, I decided to train a regression model on column `OUTAGE.DURATION` that can help power stations achieve this goal that benefits all of their customers. The evaluation matric I applied is R^2 value.\n",
    "\n",
    "At the data cleaning stage, I removed columns whose information can only be obtained after knowing the `OUTAGE.DURATION` as well as columns that seem redundent or irrelevant for our model. Small proportion of rows with missing values are removed to guarantee the functionality of the training model.\n",
    "\n",
    "\n",
    "### Baseline Model\n",
    "For baseline model, I applied simple OneHotEncoder and OrdinalEncoder to transform categorical columns into numerical ones. As the dimension of dataset after categorical encoding is over a hundred, a linear regression performs terrible on this dataset. I applied DecisionTreeRegressor instead. As this is a regressor (not a classifier), R^2 value is used to evaluate the performance of the model. In order to reduce the influence of randomness in my scoring, I apply the algorithm 1000 times to get a distriution of R^2 values on different training/testing sets. The result varies between -1 and 0.2, with a peak at around -0.4. A negative R^2 value indicates terrible performance of my baseline model.\n",
    "\n",
    "### Final Model\n",
    "Several improvements are made to revise the baseline model into the final model.\n",
    "1. PCA is applied on the transformed columns to remove the effect of linearity among columns.\n",
    "2. A groupby-and-zscale transformation is performed on columns whose values are significantly determined by another categorical column. For example, the price of electricity varies a lot by states, so it is necessary to remove the correlation between these two columns before the model fitting.\n",
    "3. Some columns are meaningless until they are followed by the unit \"per capita\". For such columns like sales of power plans, division by the state population is applied to enforce the idea of sales \"per person\".\n",
    "4. Instead of using DecisionTreeRegressor, more advanced regressors include KNeighborsRegressor, RandomForestRegressor, and SVR are used to fit the training data. Different models perform differently on this problem, and a StackingRegressor is used in the final model to stack models that perform well in the cross validation test. The best parameters are determined with a GridSearchCV on each of them.\n",
    "\n",
    "After the revision, the model gets a testing score of 0.239, which is a much better number than any of the 1000 trials of my baseline model. I redo the train_test_split for 20 times (not 1000 times because it is too time-consuming) and display the average performance of my model again. This time, the R^2 values varies between 0.150 and 0.325. A huge improvement on this model is confirmed.\n",
    "\n",
    "### Fairness Evaluation\n",
    "The biggest problem of this dataset is the unevenly distributed numbers of records for each states. Some states such as California and Texas are over-represented in this dataset while we have six states with only one record presented. It is intuitively true that the model will be biased towards over-represented states because more data points are available in the training set for the model to learn from. In order to testify if this biasness is statistically significant, a permutation test is performed on the column `U.S._STATE`. The result of the permutation test shows that this bias is statistically significant with a p-value of 0.01."
   ]
  },
  {
   "cell_type": "markdown",
   "metadata": {},
   "source": [
    "# Code"
   ]
  },
  {
   "cell_type": "markdown",
   "metadata": {},
   "source": [
    "### Import Packages"
   ]
  },
  {
   "cell_type": "code",
   "execution_count": 1,
   "metadata": {},
   "outputs": [],
   "source": [
    "import matplotlib.pyplot as plt\n",
    "import numpy as np\n",
    "import os\n",
    "import pandas as pd\n",
    "import seaborn as sns\n",
    "\n",
    "from sklearn.model_selection import train_test_split, cross_val_score, GridSearchCV\n",
    "from sklearn.ensemble import StackingRegressor\n",
    "from sklearn.compose import ColumnTransformer\n",
    "from sklearn.preprocessing import FunctionTransformer, OneHotEncoder, OrdinalEncoder\n",
    "from sklearn.pipeline import Pipeline\n",
    "from sklearn.base import BaseEstimator, TransformerMixin\n",
    "from sklearn.decomposition import PCA\n",
    "from sklearn.linear_model import LinearRegression\n",
    "from sklearn.tree import DecisionTreeRegressor\n",
    "from sklearn.neighbors import KNeighborsRegressor\n",
    "from sklearn.ensemble import RandomForestRegressor\n",
    "from sklearn.svm import SVR\n",
    "\n",
    "%matplotlib inline\n",
    "%config InlineBackend.figure_format = 'retina'  # Higher resolution figures\n",
    "#pd.set_option('display.max_columns', None)"
   ]
  },
  {
   "cell_type": "markdown",
   "metadata": {},
   "source": [
    "### Load Dataset"
   ]
  },
  {
   "cell_type": "code",
   "execution_count": 2,
   "metadata": {
    "scrolled": false
   },
   "outputs": [
    {
     "data": {
      "text/html": [
       "<div>\n",
       "<style scoped>\n",
       "    .dataframe tbody tr th:only-of-type {\n",
       "        vertical-align: middle;\n",
       "    }\n",
       "\n",
       "    .dataframe tbody tr th {\n",
       "        vertical-align: top;\n",
       "    }\n",
       "\n",
       "    .dataframe thead th {\n",
       "        text-align: right;\n",
       "    }\n",
       "</style>\n",
       "<table border=\"1\" class=\"dataframe\">\n",
       "  <thead>\n",
       "    <tr style=\"text-align: right;\">\n",
       "      <th></th>\n",
       "      <th>OBS</th>\n",
       "      <th>YEAR</th>\n",
       "      <th>MONTH</th>\n",
       "      <th>U.S._STATE</th>\n",
       "      <th>POSTAL.CODE</th>\n",
       "      <th>NERC.REGION</th>\n",
       "      <th>CLIMATE.REGION</th>\n",
       "      <th>ANOMALY.LEVEL</th>\n",
       "      <th>CLIMATE.CATEGORY</th>\n",
       "      <th>OUTAGE.START.DATE</th>\n",
       "      <th>...</th>\n",
       "      <th>POPPCT_URBAN</th>\n",
       "      <th>POPPCT_UC</th>\n",
       "      <th>POPDEN_URBAN</th>\n",
       "      <th>POPDEN_UC</th>\n",
       "      <th>POPDEN_RURAL</th>\n",
       "      <th>AREAPCT_URBAN</th>\n",
       "      <th>AREAPCT_UC</th>\n",
       "      <th>PCT_LAND</th>\n",
       "      <th>PCT_WATER_TOT</th>\n",
       "      <th>PCT_WATER_INLAND</th>\n",
       "    </tr>\n",
       "  </thead>\n",
       "  <tbody>\n",
       "    <tr>\n",
       "      <th>1</th>\n",
       "      <td>1.0</td>\n",
       "      <td>2011.0</td>\n",
       "      <td>7.0</td>\n",
       "      <td>Minnesota</td>\n",
       "      <td>MN</td>\n",
       "      <td>MRO</td>\n",
       "      <td>East North Central</td>\n",
       "      <td>-0.3</td>\n",
       "      <td>normal</td>\n",
       "      <td>2011-07-01 00:00:00</td>\n",
       "      <td>...</td>\n",
       "      <td>73.27</td>\n",
       "      <td>15.28</td>\n",
       "      <td>2279</td>\n",
       "      <td>1700.5</td>\n",
       "      <td>18.2</td>\n",
       "      <td>2.14</td>\n",
       "      <td>0.6</td>\n",
       "      <td>91.5927</td>\n",
       "      <td>8.40733</td>\n",
       "      <td>5.47874</td>\n",
       "    </tr>\n",
       "    <tr>\n",
       "      <th>2</th>\n",
       "      <td>2.0</td>\n",
       "      <td>2014.0</td>\n",
       "      <td>5.0</td>\n",
       "      <td>Minnesota</td>\n",
       "      <td>MN</td>\n",
       "      <td>MRO</td>\n",
       "      <td>East North Central</td>\n",
       "      <td>-0.1</td>\n",
       "      <td>normal</td>\n",
       "      <td>2014-05-11 00:00:00</td>\n",
       "      <td>...</td>\n",
       "      <td>73.27</td>\n",
       "      <td>15.28</td>\n",
       "      <td>2279</td>\n",
       "      <td>1700.5</td>\n",
       "      <td>18.2</td>\n",
       "      <td>2.14</td>\n",
       "      <td>0.6</td>\n",
       "      <td>91.5927</td>\n",
       "      <td>8.40733</td>\n",
       "      <td>5.47874</td>\n",
       "    </tr>\n",
       "    <tr>\n",
       "      <th>3</th>\n",
       "      <td>3.0</td>\n",
       "      <td>2010.0</td>\n",
       "      <td>10.0</td>\n",
       "      <td>Minnesota</td>\n",
       "      <td>MN</td>\n",
       "      <td>MRO</td>\n",
       "      <td>East North Central</td>\n",
       "      <td>-1.5</td>\n",
       "      <td>cold</td>\n",
       "      <td>2010-10-26 00:00:00</td>\n",
       "      <td>...</td>\n",
       "      <td>73.27</td>\n",
       "      <td>15.28</td>\n",
       "      <td>2279</td>\n",
       "      <td>1700.5</td>\n",
       "      <td>18.2</td>\n",
       "      <td>2.14</td>\n",
       "      <td>0.6</td>\n",
       "      <td>91.5927</td>\n",
       "      <td>8.40733</td>\n",
       "      <td>5.47874</td>\n",
       "    </tr>\n",
       "    <tr>\n",
       "      <th>4</th>\n",
       "      <td>4.0</td>\n",
       "      <td>2012.0</td>\n",
       "      <td>6.0</td>\n",
       "      <td>Minnesota</td>\n",
       "      <td>MN</td>\n",
       "      <td>MRO</td>\n",
       "      <td>East North Central</td>\n",
       "      <td>-0.1</td>\n",
       "      <td>normal</td>\n",
       "      <td>2012-06-19 00:00:00</td>\n",
       "      <td>...</td>\n",
       "      <td>73.27</td>\n",
       "      <td>15.28</td>\n",
       "      <td>2279</td>\n",
       "      <td>1700.5</td>\n",
       "      <td>18.2</td>\n",
       "      <td>2.14</td>\n",
       "      <td>0.6</td>\n",
       "      <td>91.5927</td>\n",
       "      <td>8.40733</td>\n",
       "      <td>5.47874</td>\n",
       "    </tr>\n",
       "    <tr>\n",
       "      <th>5</th>\n",
       "      <td>5.0</td>\n",
       "      <td>2015.0</td>\n",
       "      <td>7.0</td>\n",
       "      <td>Minnesota</td>\n",
       "      <td>MN</td>\n",
       "      <td>MRO</td>\n",
       "      <td>East North Central</td>\n",
       "      <td>1.2</td>\n",
       "      <td>warm</td>\n",
       "      <td>2015-07-18 00:00:00</td>\n",
       "      <td>...</td>\n",
       "      <td>73.27</td>\n",
       "      <td>15.28</td>\n",
       "      <td>2279</td>\n",
       "      <td>1700.5</td>\n",
       "      <td>18.2</td>\n",
       "      <td>2.14</td>\n",
       "      <td>0.6</td>\n",
       "      <td>91.5927</td>\n",
       "      <td>8.40733</td>\n",
       "      <td>5.47874</td>\n",
       "    </tr>\n",
       "  </tbody>\n",
       "</table>\n",
       "<p>5 rows × 56 columns</p>\n",
       "</div>"
      ],
      "text/plain": [
       "   OBS    YEAR  MONTH U.S._STATE POSTAL.CODE NERC.REGION      CLIMATE.REGION  \\\n",
       "1  1.0  2011.0    7.0  Minnesota          MN         MRO  East North Central   \n",
       "2  2.0  2014.0    5.0  Minnesota          MN         MRO  East North Central   \n",
       "3  3.0  2010.0   10.0  Minnesota          MN         MRO  East North Central   \n",
       "4  4.0  2012.0    6.0  Minnesota          MN         MRO  East North Central   \n",
       "5  5.0  2015.0    7.0  Minnesota          MN         MRO  East North Central   \n",
       "\n",
       "  ANOMALY.LEVEL CLIMATE.CATEGORY    OUTAGE.START.DATE  ... POPPCT_URBAN  \\\n",
       "1          -0.3           normal  2011-07-01 00:00:00  ...        73.27   \n",
       "2          -0.1           normal  2014-05-11 00:00:00  ...        73.27   \n",
       "3          -1.5             cold  2010-10-26 00:00:00  ...        73.27   \n",
       "4          -0.1           normal  2012-06-19 00:00:00  ...        73.27   \n",
       "5           1.2             warm  2015-07-18 00:00:00  ...        73.27   \n",
       "\n",
       "  POPPCT_UC POPDEN_URBAN POPDEN_UC POPDEN_RURAL AREAPCT_URBAN AREAPCT_UC  \\\n",
       "1     15.28         2279    1700.5         18.2          2.14        0.6   \n",
       "2     15.28         2279    1700.5         18.2          2.14        0.6   \n",
       "3     15.28         2279    1700.5         18.2          2.14        0.6   \n",
       "4     15.28         2279    1700.5         18.2          2.14        0.6   \n",
       "5     15.28         2279    1700.5         18.2          2.14        0.6   \n",
       "\n",
       "  PCT_LAND  PCT_WATER_TOT PCT_WATER_INLAND  \n",
       "1  91.5927        8.40733          5.47874  \n",
       "2  91.5927        8.40733          5.47874  \n",
       "3  91.5927        8.40733          5.47874  \n",
       "4  91.5927        8.40733          5.47874  \n",
       "5  91.5927        8.40733          5.47874  \n",
       "\n",
       "[5 rows x 56 columns]"
      ]
     },
     "execution_count": 2,
     "metadata": {},
     "output_type": "execute_result"
    }
   ],
   "source": [
    "excel_content = pd.read_excel(\"outage.xlsx\", skiprows=5) # Remove the file header in the excel file provided\n",
    "outage = excel_content.iloc[1:, 1:] # Remove irrelevant column and row designed for unit of variables\n",
    "var_unit_dict = excel_content.iloc[0] # Note down the unit of variables provided for further references\n",
    "outage.head()"
   ]
  },
  {
   "cell_type": "markdown",
   "metadata": {},
   "source": [
    "### Data Cleaning"
   ]
  },
  {
   "cell_type": "markdown",
   "metadata": {},
   "source": [
    "**Remove columns from the dataset due to various reasons:**"
   ]
  },
  {
   "cell_type": "code",
   "execution_count": 3,
   "metadata": {},
   "outputs": [],
   "source": [
    "# Remove indexing column as it may bring unexpected errors to our model (for rare cases)\n",
    "outage = outage.drop(\"OBS\", axis=1) \n",
    "# Remove descriptive columns that are hard to use while modeling\n",
    "outage = outage.drop([\"CAUSE.CATEGORY.DETAIL\", \"HURRICANE.NAMES\"], axis=1)\n",
    "# Remove columns that can only be calculated after we know the target variable\n",
    "outage = outage.drop([\"OUTAGE.RESTORATION.DATE\", \"OUTAGE.RESTORATION.TIME\", \"DEMAND.LOSS.MW\"], axis=1)\n",
    "# Remove POSTAL.CODE as it classifies the dataset exactly the same as U.S._STATE\n",
    "outage = outage.drop([\"POSTAL.CODE\"], axis=1)"
   ]
  },
  {
   "cell_type": "markdown",
   "metadata": {},
   "source": [
    "**Remove rows with missing values:**\n",
    "\n",
    "Notice that some observations have the term `CUSTOMERS.AFFECTED` equals zero. It is highly possible that the value zero also indicates the missingness of the value. So I decided to drop these observations as well."
   ]
  },
  {
   "cell_type": "code",
   "execution_count": 4,
   "metadata": {},
   "outputs": [],
   "source": [
    "outage = outage.loc[~outage.isnull().any(axis=1)].reset_index(drop=True)\n",
    "outage = outage.loc[outage[\"CUSTOMERS.AFFECTED\"] > 0 | ((outage[\"OUTAGE.DURATION\"] == 0) & (outage[\"CUSTOMERS.AFFECTED\"] > 0))].reset_index(drop=True)"
   ]
  },
  {
   "cell_type": "markdown",
   "metadata": {},
   "source": [
    "**Remove outliers in `OUTAGE.DURATION`:**\n",
    "\n",
    "The maximum value for `OUTAGE.DURATION` is 108653 (minutes) in the original dataset. This is considered unexpectedly long that we may guess something accidental happens during the restoring process. Such accidents are not likely to happen again when we have another \"similar\" outage.So, aiming to predict the duration of future outages by looking at the current records of similar outages, it is beneficial to remove these extreme outliers from our model. In this way, we are sacrificing the predictive error when an unexpected situation happens (it is hard to predict unexpected accident so that sacrifice is totally fine) in order to make our predictions for normal cases more accurate. In detail, we will remove all observations with `OUTAGE.DURATION` more than 3 days (4320 minutes)."
   ]
  },
  {
   "cell_type": "code",
   "execution_count": 5,
   "metadata": {},
   "outputs": [],
   "source": [
    "outage = outage.loc[outage[\"OUTAGE.DURATION\"] <= 4320].reset_index(drop=True)"
   ]
  },
  {
   "cell_type": "markdown",
   "metadata": {},
   "source": [
    "**Check the number of observations remains to see if we are losing too many of them:**"
   ]
  },
  {
   "cell_type": "code",
   "execution_count": 6,
   "metadata": {},
   "outputs": [
    {
     "data": {
      "text/plain": [
       "(636, 49)"
      ]
     },
     "execution_count": 6,
     "metadata": {},
     "output_type": "execute_result"
    }
   ],
   "source": [
    "outage.shape"
   ]
  },
  {
   "cell_type": "markdown",
   "metadata": {},
   "source": [
    "**Special care to time-related columns:**\n",
    "\n",
    "we want to keep the information of month and hour for further engineering. Other values such as day/minute/second are too detailed to help making prediction models."
   ]
  },
  {
   "cell_type": "code",
   "execution_count": 7,
   "metadata": {},
   "outputs": [],
   "source": [
    "outage = outage.drop(\"OUTAGE.START.DATE\", axis=1)\n",
    "outage[\"OUTAGE.START.TIME\"] = outage[\"OUTAGE.START.TIME\"].astype(str).str[0:2].astype(int)\n",
    "outage = outage.rename({\"OUTAGE.START.TIME\": \"HOUR\"}, axis=1)"
   ]
  },
  {
   "cell_type": "markdown",
   "metadata": {},
   "source": [
    "**Assign datatype to each column because we no longer have missing values for those columns that are supposed to have integers:**"
   ]
  },
  {
   "cell_type": "code",
   "execution_count": 8,
   "metadata": {
    "scrolled": false
   },
   "outputs": [],
   "source": [
    "dtype_dict = {\"YEAR\": int, \"MONTH\": int, \"U.S._STATE\": str, \"NERC.REGION\": str, \"CLIMATE.REGION\": str, \n",
    "              \"ANOMALY.LEVEL\": float, \"CLIMATE.CATEGORY\": str, \"HOUR\": int, \"CAUSE.CATEGORY\": str, \n",
    "              \"OUTAGE.DURATION\": int, \"CUSTOMERS.AFFECTED\": int, \"RES.PRICE\": float, \"COM.PRICE\": float, \n",
    "              \"IND.PRICE\": float, \"TOTAL.PRICE\": float, \"RES.SALES\": int, \"COM.SALES\": int, \"IND.SALES\": int, \n",
    "              \"TOTAL.SALES\": int, \"RES.PERCEN\": float, \"COM.PERCEN\": float, \"IND.PERCEN\": float, \n",
    "              \"RES.CUSTOMERS\": int, \"COM.CUSTOMERS\": int, \"IND.CUSTOMERS\": int, \"TOTAL.CUSTOMERS\": int, \n",
    "              \"RES.CUST.PCT\": float, \"COM.CUST.PCT\": float, \"IND.CUST.PCT\": float, \"PC.REALGSP.STATE\": int, \n",
    "              \"PC.REALGSP.USA\": int, \"PC.REALGSP.REL\": float, \"PC.REALGSP.CHANGE\": float, \"UTIL.REALGSP\": int, \n",
    "              \"TOTAL.REALGSP\": int, \"UTIL.CONTRI\": float, \"PI.UTIL.OFUSA\": float, \"POPULATION\": int,\n",
    "              \"POPPCT_URBAN\": float, \"POPPCT_UC\": float, \"POPDEN_URBAN\": int, \"POPDEN_UC\": float, \"POPDEN_RURAL\": float, \n",
    "              \"AREAPCT_URBAN\": float, \"AREAPCT_UC\": float,  \"PCT_LAND\": float, \"PCT_WATER_TOT\": float, \"PCT_WATER_INLAND\": float}\n",
    "\n",
    "outage = outage.astype(dtype_dict) # Cast the data frame as designed"
   ]
  },
  {
   "cell_type": "markdown",
   "metadata": {},
   "source": [
    "**Drop columns that is not significantly correlated with `OUTAGE.DURATION`:**\n",
    "\n",
    "threshold = 0.10"
   ]
  },
  {
   "cell_type": "code",
   "execution_count": 9,
   "metadata": {},
   "outputs": [],
   "source": [
    "quant_cols = outage.columns.drop([\"U.S._STATE\", \"NERC.REGION\", \"CLIMATE.REGION\", \"CLIMATE.CATEGORY\", \"CAUSE.CATEGORY\"])\n",
    "rf = RandomForestRegressor(n_estimators=20)\n",
    "uncorrelated_cols = []\n",
    "for i in range(len(quant_cols)):\n",
    "    score = abs((cross_val_score(rf, outage[[quant_cols[i]]], outage[\"OUTAGE.DURATION\"], scoring=\"r2\", cv=10)).mean())\n",
    "    if score < 0.10:\n",
    "        uncorrelated_cols.append(quant_cols[i])\n",
    "outage = outage.drop(uncorrelated_cols, axis=1)"
   ]
  },
  {
   "cell_type": "markdown",
   "metadata": {},
   "source": [
    "**View the cleaned dataset:**"
   ]
  },
  {
   "cell_type": "code",
   "execution_count": 10,
   "metadata": {
    "scrolled": true
   },
   "outputs": [
    {
     "data": {
      "text/html": [
       "<div>\n",
       "<style scoped>\n",
       "    .dataframe tbody tr th:only-of-type {\n",
       "        vertical-align: middle;\n",
       "    }\n",
       "\n",
       "    .dataframe tbody tr th {\n",
       "        vertical-align: top;\n",
       "    }\n",
       "\n",
       "    .dataframe thead th {\n",
       "        text-align: right;\n",
       "    }\n",
       "</style>\n",
       "<table border=\"1\" class=\"dataframe\">\n",
       "  <thead>\n",
       "    <tr style=\"text-align: right;\">\n",
       "      <th></th>\n",
       "      <th>YEAR</th>\n",
       "      <th>MONTH</th>\n",
       "      <th>U.S._STATE</th>\n",
       "      <th>NERC.REGION</th>\n",
       "      <th>CLIMATE.REGION</th>\n",
       "      <th>ANOMALY.LEVEL</th>\n",
       "      <th>CLIMATE.CATEGORY</th>\n",
       "      <th>HOUR</th>\n",
       "      <th>CAUSE.CATEGORY</th>\n",
       "      <th>OUTAGE.DURATION</th>\n",
       "      <th>...</th>\n",
       "      <th>UTIL.CONTRI</th>\n",
       "      <th>PI.UTIL.OFUSA</th>\n",
       "      <th>POPULATION</th>\n",
       "      <th>POPPCT_URBAN</th>\n",
       "      <th>POPPCT_UC</th>\n",
       "      <th>POPDEN_URBAN</th>\n",
       "      <th>AREAPCT_URBAN</th>\n",
       "      <th>AREAPCT_UC</th>\n",
       "      <th>PCT_LAND</th>\n",
       "      <th>PCT_WATER_TOT</th>\n",
       "    </tr>\n",
       "  </thead>\n",
       "  <tbody>\n",
       "    <tr>\n",
       "      <th>0</th>\n",
       "      <td>2011</td>\n",
       "      <td>7</td>\n",
       "      <td>Minnesota</td>\n",
       "      <td>MRO</td>\n",
       "      <td>East North Central</td>\n",
       "      <td>-0.3</td>\n",
       "      <td>normal</td>\n",
       "      <td>17</td>\n",
       "      <td>severe weather</td>\n",
       "      <td>3060</td>\n",
       "      <td>...</td>\n",
       "      <td>1.751391</td>\n",
       "      <td>2.2</td>\n",
       "      <td>5348119</td>\n",
       "      <td>73.27</td>\n",
       "      <td>15.28</td>\n",
       "      <td>2279</td>\n",
       "      <td>2.14</td>\n",
       "      <td>0.60</td>\n",
       "      <td>91.592666</td>\n",
       "      <td>8.407334</td>\n",
       "    </tr>\n",
       "    <tr>\n",
       "      <th>1</th>\n",
       "      <td>2010</td>\n",
       "      <td>10</td>\n",
       "      <td>Minnesota</td>\n",
       "      <td>MRO</td>\n",
       "      <td>East North Central</td>\n",
       "      <td>-1.5</td>\n",
       "      <td>cold</td>\n",
       "      <td>20</td>\n",
       "      <td>severe weather</td>\n",
       "      <td>3000</td>\n",
       "      <td>...</td>\n",
       "      <td>1.706266</td>\n",
       "      <td>2.1</td>\n",
       "      <td>5310903</td>\n",
       "      <td>73.27</td>\n",
       "      <td>15.28</td>\n",
       "      <td>2279</td>\n",
       "      <td>2.14</td>\n",
       "      <td>0.60</td>\n",
       "      <td>91.592666</td>\n",
       "      <td>8.407334</td>\n",
       "    </tr>\n",
       "    <tr>\n",
       "      <th>2</th>\n",
       "      <td>2012</td>\n",
       "      <td>6</td>\n",
       "      <td>Minnesota</td>\n",
       "      <td>MRO</td>\n",
       "      <td>East North Central</td>\n",
       "      <td>-0.1</td>\n",
       "      <td>normal</td>\n",
       "      <td>4</td>\n",
       "      <td>severe weather</td>\n",
       "      <td>2550</td>\n",
       "      <td>...</td>\n",
       "      <td>1.932089</td>\n",
       "      <td>2.2</td>\n",
       "      <td>5380443</td>\n",
       "      <td>73.27</td>\n",
       "      <td>15.28</td>\n",
       "      <td>2279</td>\n",
       "      <td>2.14</td>\n",
       "      <td>0.60</td>\n",
       "      <td>91.592666</td>\n",
       "      <td>8.407334</td>\n",
       "    </tr>\n",
       "    <tr>\n",
       "      <th>3</th>\n",
       "      <td>2015</td>\n",
       "      <td>7</td>\n",
       "      <td>Minnesota</td>\n",
       "      <td>MRO</td>\n",
       "      <td>East North Central</td>\n",
       "      <td>1.2</td>\n",
       "      <td>warm</td>\n",
       "      <td>2</td>\n",
       "      <td>severe weather</td>\n",
       "      <td>1740</td>\n",
       "      <td>...</td>\n",
       "      <td>1.668704</td>\n",
       "      <td>2.2</td>\n",
       "      <td>5489594</td>\n",
       "      <td>73.27</td>\n",
       "      <td>15.28</td>\n",
       "      <td>2279</td>\n",
       "      <td>2.14</td>\n",
       "      <td>0.60</td>\n",
       "      <td>91.592666</td>\n",
       "      <td>8.407334</td>\n",
       "    </tr>\n",
       "    <tr>\n",
       "      <th>4</th>\n",
       "      <td>2010</td>\n",
       "      <td>11</td>\n",
       "      <td>Minnesota</td>\n",
       "      <td>MRO</td>\n",
       "      <td>East North Central</td>\n",
       "      <td>-1.4</td>\n",
       "      <td>cold</td>\n",
       "      <td>15</td>\n",
       "      <td>severe weather</td>\n",
       "      <td>1860</td>\n",
       "      <td>...</td>\n",
       "      <td>1.706266</td>\n",
       "      <td>2.1</td>\n",
       "      <td>5310903</td>\n",
       "      <td>73.27</td>\n",
       "      <td>15.28</td>\n",
       "      <td>2279</td>\n",
       "      <td>2.14</td>\n",
       "      <td>0.60</td>\n",
       "      <td>91.592666</td>\n",
       "      <td>8.407334</td>\n",
       "    </tr>\n",
       "    <tr>\n",
       "      <th>...</th>\n",
       "      <td>...</td>\n",
       "      <td>...</td>\n",
       "      <td>...</td>\n",
       "      <td>...</td>\n",
       "      <td>...</td>\n",
       "      <td>...</td>\n",
       "      <td>...</td>\n",
       "      <td>...</td>\n",
       "      <td>...</td>\n",
       "      <td>...</td>\n",
       "      <td>...</td>\n",
       "      <td>...</td>\n",
       "      <td>...</td>\n",
       "      <td>...</td>\n",
       "      <td>...</td>\n",
       "      <td>...</td>\n",
       "      <td>...</td>\n",
       "      <td>...</td>\n",
       "      <td>...</td>\n",
       "      <td>...</td>\n",
       "      <td>...</td>\n",
       "    </tr>\n",
       "    <tr>\n",
       "      <th>631</th>\n",
       "      <td>2012</td>\n",
       "      <td>6</td>\n",
       "      <td>Colorado</td>\n",
       "      <td>WECC</td>\n",
       "      <td>Southwest</td>\n",
       "      <td>-0.1</td>\n",
       "      <td>normal</td>\n",
       "      <td>17</td>\n",
       "      <td>system operability disruption</td>\n",
       "      <td>5</td>\n",
       "      <td>...</td>\n",
       "      <td>1.648458</td>\n",
       "      <td>1.7</td>\n",
       "      <td>5191731</td>\n",
       "      <td>86.15</td>\n",
       "      <td>9.29</td>\n",
       "      <td>2836</td>\n",
       "      <td>1.47</td>\n",
       "      <td>0.26</td>\n",
       "      <td>99.565777</td>\n",
       "      <td>0.434223</td>\n",
       "    </tr>\n",
       "    <tr>\n",
       "      <th>632</th>\n",
       "      <td>2006</td>\n",
       "      <td>10</td>\n",
       "      <td>Colorado</td>\n",
       "      <td>MRO</td>\n",
       "      <td>Southwest</td>\n",
       "      <td>0.7</td>\n",
       "      <td>warm</td>\n",
       "      <td>5</td>\n",
       "      <td>severe weather</td>\n",
       "      <td>2140</td>\n",
       "      <td>...</td>\n",
       "      <td>1.439288</td>\n",
       "      <td>1.6</td>\n",
       "      <td>4720423</td>\n",
       "      <td>86.15</td>\n",
       "      <td>9.29</td>\n",
       "      <td>2836</td>\n",
       "      <td>1.47</td>\n",
       "      <td>0.26</td>\n",
       "      <td>99.565777</td>\n",
       "      <td>0.434223</td>\n",
       "    </tr>\n",
       "    <tr>\n",
       "      <th>633</th>\n",
       "      <td>2015</td>\n",
       "      <td>4</td>\n",
       "      <td>Kansas</td>\n",
       "      <td>SPP</td>\n",
       "      <td>South</td>\n",
       "      <td>0.7</td>\n",
       "      <td>warm</td>\n",
       "      <td>2</td>\n",
       "      <td>severe weather</td>\n",
       "      <td>348</td>\n",
       "      <td>...</td>\n",
       "      <td>1.684232</td>\n",
       "      <td>1.1</td>\n",
       "      <td>2911641</td>\n",
       "      <td>74.20</td>\n",
       "      <td>24.03</td>\n",
       "      <td>2176</td>\n",
       "      <td>1.19</td>\n",
       "      <td>0.42</td>\n",
       "      <td>99.369212</td>\n",
       "      <td>0.632004</td>\n",
       "    </tr>\n",
       "    <tr>\n",
       "      <th>634</th>\n",
       "      <td>2004</td>\n",
       "      <td>6</td>\n",
       "      <td>Idaho</td>\n",
       "      <td>WECC</td>\n",
       "      <td>Northwest</td>\n",
       "      <td>0.3</td>\n",
       "      <td>normal</td>\n",
       "      <td>17</td>\n",
       "      <td>system operability disruption</td>\n",
       "      <td>95</td>\n",
       "      <td>...</td>\n",
       "      <td>1.775365</td>\n",
       "      <td>0.3</td>\n",
       "      <td>1391802</td>\n",
       "      <td>70.58</td>\n",
       "      <td>20.06</td>\n",
       "      <td>2216</td>\n",
       "      <td>0.60</td>\n",
       "      <td>0.19</td>\n",
       "      <td>98.891934</td>\n",
       "      <td>1.108066</td>\n",
       "    </tr>\n",
       "    <tr>\n",
       "      <th>635</th>\n",
       "      <td>2011</td>\n",
       "      <td>12</td>\n",
       "      <td>North Dakota</td>\n",
       "      <td>MRO</td>\n",
       "      <td>West North Central</td>\n",
       "      <td>-0.9</td>\n",
       "      <td>cold</td>\n",
       "      <td>8</td>\n",
       "      <td>public appeal</td>\n",
       "      <td>720</td>\n",
       "      <td>...</td>\n",
       "      <td>2.390765</td>\n",
       "      <td>0.5</td>\n",
       "      <td>685326</td>\n",
       "      <td>59.90</td>\n",
       "      <td>19.90</td>\n",
       "      <td>2192</td>\n",
       "      <td>0.27</td>\n",
       "      <td>0.10</td>\n",
       "      <td>97.599649</td>\n",
       "      <td>2.401765</td>\n",
       "    </tr>\n",
       "  </tbody>\n",
       "</table>\n",
       "<p>636 rows × 45 columns</p>\n",
       "</div>"
      ],
      "text/plain": [
       "     YEAR  MONTH    U.S._STATE NERC.REGION      CLIMATE.REGION  ANOMALY.LEVEL  \\\n",
       "0    2011      7     Minnesota         MRO  East North Central           -0.3   \n",
       "1    2010     10     Minnesota         MRO  East North Central           -1.5   \n",
       "2    2012      6     Minnesota         MRO  East North Central           -0.1   \n",
       "3    2015      7     Minnesota         MRO  East North Central            1.2   \n",
       "4    2010     11     Minnesota         MRO  East North Central           -1.4   \n",
       "..    ...    ...           ...         ...                 ...            ...   \n",
       "631  2012      6      Colorado        WECC           Southwest           -0.1   \n",
       "632  2006     10      Colorado         MRO           Southwest            0.7   \n",
       "633  2015      4        Kansas         SPP               South            0.7   \n",
       "634  2004      6         Idaho        WECC           Northwest            0.3   \n",
       "635  2011     12  North Dakota         MRO  West North Central           -0.9   \n",
       "\n",
       "    CLIMATE.CATEGORY  HOUR                 CAUSE.CATEGORY  OUTAGE.DURATION  \\\n",
       "0             normal    17                 severe weather             3060   \n",
       "1               cold    20                 severe weather             3000   \n",
       "2             normal     4                 severe weather             2550   \n",
       "3               warm     2                 severe weather             1740   \n",
       "4               cold    15                 severe weather             1860   \n",
       "..               ...   ...                            ...              ...   \n",
       "631           normal    17  system operability disruption                5   \n",
       "632             warm     5                 severe weather             2140   \n",
       "633             warm     2                 severe weather              348   \n",
       "634           normal    17  system operability disruption               95   \n",
       "635             cold     8                  public appeal              720   \n",
       "\n",
       "     ...  UTIL.CONTRI  PI.UTIL.OFUSA  POPULATION  POPPCT_URBAN  POPPCT_UC  \\\n",
       "0    ...     1.751391            2.2     5348119         73.27      15.28   \n",
       "1    ...     1.706266            2.1     5310903         73.27      15.28   \n",
       "2    ...     1.932089            2.2     5380443         73.27      15.28   \n",
       "3    ...     1.668704            2.2     5489594         73.27      15.28   \n",
       "4    ...     1.706266            2.1     5310903         73.27      15.28   \n",
       "..   ...          ...            ...         ...           ...        ...   \n",
       "631  ...     1.648458            1.7     5191731         86.15       9.29   \n",
       "632  ...     1.439288            1.6     4720423         86.15       9.29   \n",
       "633  ...     1.684232            1.1     2911641         74.20      24.03   \n",
       "634  ...     1.775365            0.3     1391802         70.58      20.06   \n",
       "635  ...     2.390765            0.5      685326         59.90      19.90   \n",
       "\n",
       "     POPDEN_URBAN  AREAPCT_URBAN  AREAPCT_UC   PCT_LAND  PCT_WATER_TOT  \n",
       "0            2279           2.14        0.60  91.592666       8.407334  \n",
       "1            2279           2.14        0.60  91.592666       8.407334  \n",
       "2            2279           2.14        0.60  91.592666       8.407334  \n",
       "3            2279           2.14        0.60  91.592666       8.407334  \n",
       "4            2279           2.14        0.60  91.592666       8.407334  \n",
       "..            ...            ...         ...        ...            ...  \n",
       "631          2836           1.47        0.26  99.565777       0.434223  \n",
       "632          2836           1.47        0.26  99.565777       0.434223  \n",
       "633          2176           1.19        0.42  99.369212       0.632004  \n",
       "634          2216           0.60        0.19  98.891934       1.108066  \n",
       "635          2192           0.27        0.10  97.599649       2.401765  \n",
       "\n",
       "[636 rows x 45 columns]"
      ]
     },
     "execution_count": 10,
     "metadata": {},
     "output_type": "execute_result"
    }
   ],
   "source": [
    "outage"
   ]
  },
  {
   "cell_type": "markdown",
   "metadata": {},
   "source": [
    "**Split the dataframe into X and y:**"
   ]
  },
  {
   "cell_type": "code",
   "execution_count": 11,
   "metadata": {},
   "outputs": [],
   "source": [
    "X = outage.drop(\"OUTAGE.DURATION\", axis=1)\n",
    "y = outage[\"OUTAGE.DURATION\"]"
   ]
  },
  {
   "cell_type": "markdown",
   "metadata": {},
   "source": [
    "### Baseline Model"
   ]
  },
  {
   "cell_type": "markdown",
   "metadata": {},
   "source": [
    "**Rough one hot encoding/ordinal encoding:**\n",
    "\n",
    "In order to at least make the baseline model work on categorical columns, we want to perform one hot encoding/ordinal encoding on them."
   ]
  },
  {
   "cell_type": "code",
   "execution_count": 12,
   "metadata": {},
   "outputs": [],
   "source": [
    "base_ct = ColumnTransformer([\n",
    "    (\"geospatial\", OneHotEncoder(sparse=False, handle_unknown=\"ignore\"), [\"U.S._STATE\", \"NERC.REGION\"]),\n",
    "    (\"climate-one-hot\", OneHotEncoder(sparse=False, handle_unknown=\"ignore\"), [\"CLIMATE.REGION\"]),\n",
    "    (\"climate-ordinal\", OrdinalEncoder(), [\"CLIMATE.CATEGORY\"]),\n",
    "    (\"cause\", OneHotEncoder(sparse=False, handle_unknown=\"ignore\"), [\"CAUSE.CATEGORY\"])\n",
    "], remainder=\"passthrough\")"
   ]
  },
  {
   "cell_type": "markdown",
   "metadata": {},
   "source": [
    "**Baseline fit by DecisionTreeRegressor:**\n",
    "\n",
    "As we do not need to modify the parameters of our baseline model, we will directly fit the training data into our model, then test the performance of the predictions against the true values from testing set. To understand the score (R^2) with more confidence, we repeat the process 100 times, and plot the scores on a histogram."
   ]
  },
  {
   "cell_type": "code",
   "execution_count": 13,
   "metadata": {},
   "outputs": [],
   "source": [
    "base_pl = Pipeline([\n",
    "    (\"ct\", base_ct),\n",
    "    (\"dtr\", DecisionTreeRegressor())\n",
    "])"
   ]
  },
  {
   "cell_type": "code",
   "execution_count": 14,
   "metadata": {},
   "outputs": [
    {
     "data": {
      "text/plain": [
       "<matplotlib.axes._subplots.AxesSubplot at 0x117a8aa8208>"
      ]
     },
     "execution_count": 14,
     "metadata": {},
     "output_type": "execute_result"
    },
    {
     "data": {
      "image/png": "[encoded data removed]",
      "text/plain": [
       "<Figure size 432x288 with 1 Axes>"
      ]
     },
     "metadata": {
      "image/png": {
       "height": 248,
       "width": 388
      },
      "needs_background": "light"
     },
     "output_type": "display_data"
    }
   ],
   "source": [
    "scores = []\n",
    "for _ in range(1000):\n",
    "    train_X, test_X, train_y, test_y = train_test_split(X, y, test_size = 0.2)\n",
    "    scores.append(base_pl.fit(train_X, train_y).score(test_X, test_y))\n",
    "pd.Series(scores).plot(kind=\"hist\")"
   ]
  },
  {
   "cell_type": "markdown",
   "metadata": {},
   "source": [
    "### Final Model"
   ]
  },
  {
   "cell_type": "markdown",
   "metadata": {},
   "source": [
    "**Train_test_split:**\n",
    "\n",
    "This time, we do need to adjust the parameters of our models. So, we have to keep the testing set untouched until we are satisfied with the performance of our model."
   ]
  },
  {
   "cell_type": "code",
   "execution_count": 15,
   "metadata": {},
   "outputs": [
    {
     "data": {
      "text/html": [
       "<div>\n",
       "<style scoped>\n",
       "    .dataframe tbody tr th:only-of-type {\n",
       "        vertical-align: middle;\n",
       "    }\n",
       "\n",
       "    .dataframe tbody tr th {\n",
       "        vertical-align: top;\n",
       "    }\n",
       "\n",
       "    .dataframe thead th {\n",
       "        text-align: right;\n",
       "    }\n",
       "</style>\n",
       "<table border=\"1\" class=\"dataframe\">\n",
       "  <thead>\n",
       "    <tr style=\"text-align: right;\">\n",
       "      <th></th>\n",
       "      <th>YEAR</th>\n",
       "      <th>MONTH</th>\n",
       "      <th>U.S._STATE</th>\n",
       "      <th>NERC.REGION</th>\n",
       "      <th>CLIMATE.REGION</th>\n",
       "      <th>ANOMALY.LEVEL</th>\n",
       "      <th>CLIMATE.CATEGORY</th>\n",
       "      <th>HOUR</th>\n",
       "      <th>CAUSE.CATEGORY</th>\n",
       "      <th>CUSTOMERS.AFFECTED</th>\n",
       "      <th>...</th>\n",
       "      <th>UTIL.CONTRI</th>\n",
       "      <th>PI.UTIL.OFUSA</th>\n",
       "      <th>POPULATION</th>\n",
       "      <th>POPPCT_URBAN</th>\n",
       "      <th>POPPCT_UC</th>\n",
       "      <th>POPDEN_URBAN</th>\n",
       "      <th>AREAPCT_URBAN</th>\n",
       "      <th>AREAPCT_UC</th>\n",
       "      <th>PCT_LAND</th>\n",
       "      <th>PCT_WATER_TOT</th>\n",
       "    </tr>\n",
       "  </thead>\n",
       "  <tbody>\n",
       "    <tr>\n",
       "      <th>596</th>\n",
       "      <td>2011</td>\n",
       "      <td>8</td>\n",
       "      <td>Oklahoma</td>\n",
       "      <td>SPP</td>\n",
       "      <td>South</td>\n",
       "      <td>-0.6</td>\n",
       "      <td>cold</td>\n",
       "      <td>19</td>\n",
       "      <td>islanding</td>\n",
       "      <td>14500</td>\n",
       "      <td>...</td>\n",
       "      <td>2.440894</td>\n",
       "      <td>1.8</td>\n",
       "      <td>3786626</td>\n",
       "      <td>66.24</td>\n",
       "      <td>20.46</td>\n",
       "      <td>1901</td>\n",
       "      <td>1.90</td>\n",
       "      <td>0.68</td>\n",
       "      <td>98.134451</td>\n",
       "      <td>1.865549</td>\n",
       "    </tr>\n",
       "    <tr>\n",
       "      <th>437</th>\n",
       "      <td>2013</td>\n",
       "      <td>6</td>\n",
       "      <td>California</td>\n",
       "      <td>WECC</td>\n",
       "      <td>West</td>\n",
       "      <td>-0.2</td>\n",
       "      <td>normal</td>\n",
       "      <td>21</td>\n",
       "      <td>severe weather</td>\n",
       "      <td>148000</td>\n",
       "      <td>...</td>\n",
       "      <td>1.355142</td>\n",
       "      <td>12.3</td>\n",
       "      <td>38414128</td>\n",
       "      <td>94.95</td>\n",
       "      <td>5.22</td>\n",
       "      <td>4303</td>\n",
       "      <td>5.28</td>\n",
       "      <td>0.59</td>\n",
       "      <td>95.164177</td>\n",
       "      <td>4.835823</td>\n",
       "    </tr>\n",
       "    <tr>\n",
       "      <th>487</th>\n",
       "      <td>2002</td>\n",
       "      <td>12</td>\n",
       "      <td>California</td>\n",
       "      <td>WECC</td>\n",
       "      <td>West</td>\n",
       "      <td>1.1</td>\n",
       "      <td>warm</td>\n",
       "      <td>6</td>\n",
       "      <td>severe weather</td>\n",
       "      <td>385000</td>\n",
       "      <td>...</td>\n",
       "      <td>1.660754</td>\n",
       "      <td>9.9</td>\n",
       "      <td>34871843</td>\n",
       "      <td>94.95</td>\n",
       "      <td>5.22</td>\n",
       "      <td>4303</td>\n",
       "      <td>5.28</td>\n",
       "      <td>0.59</td>\n",
       "      <td>95.164177</td>\n",
       "      <td>4.835823</td>\n",
       "    </tr>\n",
       "    <tr>\n",
       "      <th>68</th>\n",
       "      <td>2010</td>\n",
       "      <td>6</td>\n",
       "      <td>Michigan</td>\n",
       "      <td>RFC</td>\n",
       "      <td>East North Central</td>\n",
       "      <td>-0.4</td>\n",
       "      <td>normal</td>\n",
       "      <td>19</td>\n",
       "      <td>severe weather</td>\n",
       "      <td>100000</td>\n",
       "      <td>...</td>\n",
       "      <td>2.213802</td>\n",
       "      <td>3.7</td>\n",
       "      <td>9877369</td>\n",
       "      <td>74.57</td>\n",
       "      <td>8.19</td>\n",
       "      <td>2034</td>\n",
       "      <td>6.41</td>\n",
       "      <td>1.03</td>\n",
       "      <td>58.459995</td>\n",
       "      <td>41.540005</td>\n",
       "    </tr>\n",
       "    <tr>\n",
       "      <th>356</th>\n",
       "      <td>2014</td>\n",
       "      <td>2</td>\n",
       "      <td>South Carolina</td>\n",
       "      <td>SERC</td>\n",
       "      <td>Southeast</td>\n",
       "      <td>-0.5</td>\n",
       "      <td>cold</td>\n",
       "      <td>11</td>\n",
       "      <td>severe weather</td>\n",
       "      <td>120124</td>\n",
       "      <td>...</td>\n",
       "      <td>2.484679</td>\n",
       "      <td>1.9</td>\n",
       "      <td>4829160</td>\n",
       "      <td>66.33</td>\n",
       "      <td>10.55</td>\n",
       "      <td>1288</td>\n",
       "      <td>7.92</td>\n",
       "      <td>1.45</td>\n",
       "      <td>93.881949</td>\n",
       "      <td>6.121174</td>\n",
       "    </tr>\n",
       "    <tr>\n",
       "      <th>...</th>\n",
       "      <td>...</td>\n",
       "      <td>...</td>\n",
       "      <td>...</td>\n",
       "      <td>...</td>\n",
       "      <td>...</td>\n",
       "      <td>...</td>\n",
       "      <td>...</td>\n",
       "      <td>...</td>\n",
       "      <td>...</td>\n",
       "      <td>...</td>\n",
       "      <td>...</td>\n",
       "      <td>...</td>\n",
       "      <td>...</td>\n",
       "      <td>...</td>\n",
       "      <td>...</td>\n",
       "      <td>...</td>\n",
       "      <td>...</td>\n",
       "      <td>...</td>\n",
       "      <td>...</td>\n",
       "      <td>...</td>\n",
       "      <td>...</td>\n",
       "    </tr>\n",
       "    <tr>\n",
       "      <th>454</th>\n",
       "      <td>2015</td>\n",
       "      <td>6</td>\n",
       "      <td>California</td>\n",
       "      <td>WECC</td>\n",
       "      <td>West</td>\n",
       "      <td>1.0</td>\n",
       "      <td>warm</td>\n",
       "      <td>18</td>\n",
       "      <td>islanding</td>\n",
       "      <td>727</td>\n",
       "      <td>...</td>\n",
       "      <td>1.174640</td>\n",
       "      <td>11.8</td>\n",
       "      <td>39144818</td>\n",
       "      <td>94.95</td>\n",
       "      <td>5.22</td>\n",
       "      <td>4303</td>\n",
       "      <td>5.28</td>\n",
       "      <td>0.59</td>\n",
       "      <td>95.164177</td>\n",
       "      <td>4.835823</td>\n",
       "    </tr>\n",
       "    <tr>\n",
       "      <th>24</th>\n",
       "      <td>2013</td>\n",
       "      <td>8</td>\n",
       "      <td>Wisconsin</td>\n",
       "      <td>MRO</td>\n",
       "      <td>East North Central</td>\n",
       "      <td>-0.3</td>\n",
       "      <td>normal</td>\n",
       "      <td>14</td>\n",
       "      <td>severe weather</td>\n",
       "      <td>7000</td>\n",
       "      <td>...</td>\n",
       "      <td>1.908860</td>\n",
       "      <td>2.1</td>\n",
       "      <td>5743653</td>\n",
       "      <td>70.15</td>\n",
       "      <td>14.35</td>\n",
       "      <td>2123</td>\n",
       "      <td>3.47</td>\n",
       "      <td>0.90</td>\n",
       "      <td>82.689019</td>\n",
       "      <td>17.312508</td>\n",
       "    </tr>\n",
       "    <tr>\n",
       "      <th>112</th>\n",
       "      <td>2005</td>\n",
       "      <td>9</td>\n",
       "      <td>Texas</td>\n",
       "      <td>TRE</td>\n",
       "      <td>South</td>\n",
       "      <td>0.0</td>\n",
       "      <td>normal</td>\n",
       "      <td>17</td>\n",
       "      <td>severe weather</td>\n",
       "      <td>715000</td>\n",
       "      <td>...</td>\n",
       "      <td>2.399749</td>\n",
       "      <td>9.7</td>\n",
       "      <td>22778123</td>\n",
       "      <td>84.70</td>\n",
       "      <td>9.35</td>\n",
       "      <td>2435</td>\n",
       "      <td>3.35</td>\n",
       "      <td>0.58</td>\n",
       "      <td>97.258336</td>\n",
       "      <td>2.742036</td>\n",
       "    </tr>\n",
       "    <tr>\n",
       "      <th>142</th>\n",
       "      <td>2009</td>\n",
       "      <td>1</td>\n",
       "      <td>Texas</td>\n",
       "      <td>TRE</td>\n",
       "      <td>South</td>\n",
       "      <td>-0.7</td>\n",
       "      <td>cold</td>\n",
       "      <td>5</td>\n",
       "      <td>severe weather</td>\n",
       "      <td>157019</td>\n",
       "      <td>...</td>\n",
       "      <td>2.168721</td>\n",
       "      <td>10.3</td>\n",
       "      <td>24801761</td>\n",
       "      <td>84.70</td>\n",
       "      <td>9.35</td>\n",
       "      <td>2435</td>\n",
       "      <td>3.35</td>\n",
       "      <td>0.58</td>\n",
       "      <td>97.258336</td>\n",
       "      <td>2.742036</td>\n",
       "    </tr>\n",
       "    <tr>\n",
       "      <th>145</th>\n",
       "      <td>2014</td>\n",
       "      <td>6</td>\n",
       "      <td>Indiana</td>\n",
       "      <td>RFC</td>\n",
       "      <td>Central</td>\n",
       "      <td>0.0</td>\n",
       "      <td>normal</td>\n",
       "      <td>23</td>\n",
       "      <td>severe weather</td>\n",
       "      <td>127000</td>\n",
       "      <td>...</td>\n",
       "      <td>1.777977</td>\n",
       "      <td>2.2</td>\n",
       "      <td>6597880</td>\n",
       "      <td>72.44</td>\n",
       "      <td>13.27</td>\n",
       "      <td>1860</td>\n",
       "      <td>7.05</td>\n",
       "      <td>1.46</td>\n",
       "      <td>98.369028</td>\n",
       "      <td>1.628226</td>\n",
       "    </tr>\n",
       "  </tbody>\n",
       "</table>\n",
       "<p>508 rows × 44 columns</p>\n",
       "</div>"
      ],
      "text/plain": [
       "     YEAR  MONTH      U.S._STATE NERC.REGION      CLIMATE.REGION  \\\n",
       "596  2011      8        Oklahoma         SPP               South   \n",
       "437  2013      6      California        WECC                West   \n",
       "487  2002     12      California        WECC                West   \n",
       "68   2010      6        Michigan         RFC  East North Central   \n",
       "356  2014      2  South Carolina        SERC           Southeast   \n",
       "..    ...    ...             ...         ...                 ...   \n",
       "454  2015      6      California        WECC                West   \n",
       "24   2013      8       Wisconsin         MRO  East North Central   \n",
       "112  2005      9           Texas         TRE               South   \n",
       "142  2009      1           Texas         TRE               South   \n",
       "145  2014      6         Indiana         RFC             Central   \n",
       "\n",
       "     ANOMALY.LEVEL CLIMATE.CATEGORY  HOUR  CAUSE.CATEGORY  CUSTOMERS.AFFECTED  \\\n",
       "596           -0.6             cold    19       islanding               14500   \n",
       "437           -0.2           normal    21  severe weather              148000   \n",
       "487            1.1             warm     6  severe weather              385000   \n",
       "68            -0.4           normal    19  severe weather              100000   \n",
       "356           -0.5             cold    11  severe weather              120124   \n",
       "..             ...              ...   ...             ...                 ...   \n",
       "454            1.0             warm    18       islanding                 727   \n",
       "24            -0.3           normal    14  severe weather                7000   \n",
       "112            0.0           normal    17  severe weather              715000   \n",
       "142           -0.7             cold     5  severe weather              157019   \n",
       "145            0.0           normal    23  severe weather              127000   \n",
       "\n",
       "     ...  UTIL.CONTRI  PI.UTIL.OFUSA  POPULATION  POPPCT_URBAN  POPPCT_UC  \\\n",
       "596  ...     2.440894            1.8     3786626         66.24      20.46   \n",
       "437  ...     1.355142           12.3    38414128         94.95       5.22   \n",
       "487  ...     1.660754            9.9    34871843         94.95       5.22   \n",
       "68   ...     2.213802            3.7     9877369         74.57       8.19   \n",
       "356  ...     2.484679            1.9     4829160         66.33      10.55   \n",
       "..   ...          ...            ...         ...           ...        ...   \n",
       "454  ...     1.174640           11.8    39144818         94.95       5.22   \n",
       "24   ...     1.908860            2.1     5743653         70.15      14.35   \n",
       "112  ...     2.399749            9.7    22778123         84.70       9.35   \n",
       "142  ...     2.168721           10.3    24801761         84.70       9.35   \n",
       "145  ...     1.777977            2.2     6597880         72.44      13.27   \n",
       "\n",
       "     POPDEN_URBAN  AREAPCT_URBAN  AREAPCT_UC   PCT_LAND  PCT_WATER_TOT  \n",
       "596          1901           1.90        0.68  98.134451       1.865549  \n",
       "437          4303           5.28        0.59  95.164177       4.835823  \n",
       "487          4303           5.28        0.59  95.164177       4.835823  \n",
       "68           2034           6.41        1.03  58.459995      41.540005  \n",
       "356          1288           7.92        1.45  93.881949       6.121174  \n",
       "..            ...            ...         ...        ...            ...  \n",
       "454          4303           5.28        0.59  95.164177       4.835823  \n",
       "24           2123           3.47        0.90  82.689019      17.312508  \n",
       "112          2435           3.35        0.58  97.258336       2.742036  \n",
       "142          2435           3.35        0.58  97.258336       2.742036  \n",
       "145          1860           7.05        1.46  98.369028       1.628226  \n",
       "\n",
       "[508 rows x 44 columns]"
      ]
     },
     "execution_count": 15,
     "metadata": {},
     "output_type": "execute_result"
    }
   ],
   "source": [
    "train_X, test_X, train_y, test_y = train_test_split(X, y, test_size = 0.2)\n",
    "train_X"
   ]
  },
  {
   "cell_type": "markdown",
   "metadata": {},
   "source": [
    "**Advanced Feature Engineering:**\n",
    "\n",
    "1. According to findings in Project 3, different `CAUSE.CATEGORY` can have significantly differen `CUSTOMERS.AFFECTED`. To make sure the correlation between these two columns will not affect the performance of the prediction model, values in `CUSTOMERS.AFFECTED` is standardized by group depending on `CAUSE.CATEGORY`.\n",
    "2. As different `U.S._STATE` have different levels of development, the same idea applies to the relationship between columns about \"PRICE\" and `U.S._STATE`. A standardize-by-group transformation is also applied over these columns.\n",
    "3. Columns about \"sales\" and \"number of customers\" served are statsitically meaningless unless the population of the corresponding states are provided. It is intuitively simple that states with larger populations will spend more electricity. Instead of using the raw number as features, I will use sales per population and number of customers per population for the regression model."
   ]
  },
  {
   "cell_type": "code",
   "execution_count": 16,
   "metadata": {},
   "outputs": [],
   "source": [
    "class StdScalerByGroup(BaseEstimator, TransformerMixin):\n",
    "\n",
    "    def __init__(self):\n",
    "        pass\n",
    "\n",
    "    def fit(self, X, y=None):\n",
    "        return self\n",
    "\n",
    "    def transform(self, X, y=None):\n",
    "        def groupwise_zscale(df):\n",
    "            group_key = df[df.columns[0]].iloc[0]\n",
    "            for col in df.columns[1:]:\n",
    "                df[col] = (df[col] - groups[col][\"mean\"][group_key]) / groups[col][\"std\"][group_key]\n",
    "            return df.fillna(0)\n",
    "        df = pd.DataFrame(X)\n",
    "        groups = df.groupby(df.columns[0]).aggregate([\"mean\", \"std\"])\n",
    "        return df.groupby(df.columns[0]).apply(groupwise_zscale).drop(df.columns[0], axis=1)"
   ]
  },
  {
   "cell_type": "code",
   "execution_count": 17,
   "metadata": {},
   "outputs": [],
   "source": [
    "class Proportionalizer(BaseEstimator, TransformerMixin):\n",
    "\n",
    "    def __init__(self):\n",
    "        pass\n",
    "\n",
    "    def fit(self, X, y=None):\n",
    "        return self\n",
    "\n",
    "    def transform(self, X, y=None):\n",
    "        \n",
    "        def apply_division(df):\n",
    "            for col in df.columns[1:]:\n",
    "                df[col] = df[col] / divisor\n",
    "            return df\n",
    "\n",
    "        df = pd.DataFrame(X)\n",
    "        divisor = df[df.columns[0]]\n",
    "        return apply_division(df).drop(df.columns[0], axis=1)"
   ]
  },
  {
   "cell_type": "code",
   "execution_count": 18,
   "metadata": {},
   "outputs": [],
   "source": [
    "one_hot_pl = Pipeline([\n",
    "    (\"one-hot\", OneHotEncoder(sparse=False, handle_unknown=\"ignore\")),\n",
    "    (\"pca\", PCA(svd_solver=\"full\"))\n",
    "])\n",
    "\n",
    "advanced_ct = ColumnTransformer([\n",
    "    (\"geospatial\", one_hot_pl, [\"U.S._STATE\", \"NERC.REGION\"]),\n",
    "    (\"climate\", one_hot_pl, [\"CLIMATE.REGION\"]),\n",
    "    (\"climate-ordinal\", OrdinalEncoder(), [\"CLIMATE.CATEGORY\"]),\n",
    "    (\"cause\", one_hot_pl, [\"CAUSE.CATEGORY\"]),\n",
    "    (\"group-z-scale-customer\", StdScalerByGroup(), [\"CAUSE.CATEGORY\", \"CUSTOMERS.AFFECTED\"]),\n",
    "    (\"group-z-scale-price\", StdScalerByGroup(), [\"U.S._STATE\", \"RES.PRICE\", \"COM.PRICE\", \"IND.PRICE\", \"TOTAL.PRICE\"]),\n",
    "    (\"proportionalize-sale\", Proportionalizer(), [\"POPULATION\", \"RES.SALES\", \"COM.SALES\", \"IND.SALES\", \"TOTAL.SALES\"]),\n",
    "    (\"proportionalize-num\", Proportionalizer(), [\"POPULATION\", \"RES.CUSTOMERS\", \"COM.CUSTOMERS\", \"IND.CUSTOMERS\", \"TOTAL.CUSTOMERS\"])\n",
    "], remainder=\"passthrough\")"
   ]
  },
  {
   "cell_type": "markdown",
   "metadata": {},
   "source": [
    "**GridSearchCV to find best parameters for each regressor:**\n",
    "\n",
    "As we want stack multiple regressors for a better performance, we will perform the same process on each of them. Then, we fill the best parameters into the StackingRegressor."
   ]
  },
  {
   "cell_type": "markdown",
   "metadata": {},
   "source": [
    "GridSearchCV on KNeighborsRegressor: Code is presented in comments because it takes too long to run."
   ]
  },
  {
   "cell_type": "code",
   "execution_count": 19,
   "metadata": {
    "scrolled": true
   },
   "outputs": [],
   "source": [
    "#estimators = {\n",
    "#    \"n_neighbors\": [22, 23],\n",
    "#    \"weights\": [\"uniform\", \"distance\"],\n",
    "#    \"p\": [1, 2, 3],\n",
    "#    \"n_jobs\": [-1]\n",
    "#}\n",
    "\n",
    "#feature_pl = Pipeline([\n",
    "#    (\"adv-ct\", advanced_ct),\n",
    "#    (\"final-PCA\", PCA(svd_solver=\"full\"))\n",
    "#])\n",
    "\n",
    "#clf = GridSearchCV(KNeighborsRegressor(), estimators, cv=5)\n",
    "#clf.fit(feature_pl.fit_transform(train_X), train_y).best_params_"
   ]
  },
  {
   "cell_type": "markdown",
   "metadata": {},
   "source": [
    "GridSearchCV on RandomForestRegressor: Code is presented in comments because it takes too long to run."
   ]
  },
  {
   "cell_type": "code",
   "execution_count": 20,
   "metadata": {},
   "outputs": [],
   "source": [
    "#estimators = {\n",
    "#    \"n_estimators\": [100, 200, 400],\n",
    "#    \"criterion\": [\"mse\", \"mae\"],\n",
    "#    \"min_samples_split\": [3, 5, 8, 13],\n",
    "#    \"oob_score\": [True, False],\n",
    "#    \"n_jobs\": [-1]\n",
    "#}\n",
    "\n",
    "#feature_pl = Pipeline([\n",
    "#    (\"adv-ct\", advanced_ct),\n",
    "#    (\"final-PCA\", PCA(svd_solver=\"full\"))\n",
    "#])\n",
    "\n",
    "#clf = GridSearchCV(RandomForestRegressor(), estimators, cv=5)\n",
    "#clf.fit(feature_pl.fit_transform(train_X), train_y).best_params_"
   ]
  },
  {
   "cell_type": "markdown",
   "metadata": {},
   "source": [
    "GridSearchCV on SVR: Code is presented in comments because it takes too long to run."
   ]
  },
  {
   "cell_type": "code",
   "execution_count": 21,
   "metadata": {},
   "outputs": [],
   "source": [
    "#estimators = {\n",
    "#    \"kernel\": [\"linear\", \"poly\", \"rbf\"],\n",
    "#    \"degree\": [2, 3],\n",
    "#    \"gamma\": [\"scale\", \"auto\"]\n",
    "#}\n",
    "\n",
    "#feature_pl = Pipeline([\n",
    "#    (\"adv-ct\", advanced_ct),\n",
    "#    (\"final-PCA\", PCA(svd_solver=\"full\"))\n",
    "#])\n",
    "\n",
    "#clf = GridSearchCV(SVR(), estimators, cv=5)\n",
    "#clf.fit(feature_pl.fit_transform(train_X), train_y).best_params_"
   ]
  },
  {
   "cell_type": "markdown",
   "metadata": {},
   "source": [
    "**Perform a Cross Validation to test the performance of our regressors after GridSearchCV:**\n",
    "\n",
    "We will try different combination of these three models in a `StackingRegressor`."
   ]
  },
  {
   "cell_type": "code",
   "execution_count": 22,
   "metadata": {},
   "outputs": [
    {
     "data": {
      "text/plain": [
       "array([0.23294364, 0.29185225, 0.1962945 , 0.25755421, 0.20353745])"
      ]
     },
     "execution_count": 22,
     "metadata": {},
     "output_type": "execute_result"
    }
   ],
   "source": [
    "estimators = [\n",
    "    (\"knn\", KNeighborsRegressor(n_neighbors=23, weights=\"uniform\", p=1, n_jobs=-1)),\n",
    "    (\"rf\", RandomForestRegressor(n_estimators=200, criterion=\"mae\", min_samples_split=8, oob_score=True, n_jobs=-1)),\n",
    "    #(\"svr\", SVR(kernel=\"rbf\", degree=3, gamma=\"auto\"))\n",
    "]\n",
    "\n",
    "cv_pl = Pipeline([\n",
    "    (\"adv-ct\", advanced_ct),\n",
    "    (\"final-PCA\", PCA(svd_solver=\"full\")),\n",
    "    (\"stack\", StackingRegressor(estimators))\n",
    "])\n",
    "\n",
    "cross_val_score(cv_pl, train_X, train_y, cv=5)"
   ]
  },
  {
   "cell_type": "markdown",
   "metadata": {},
   "source": [
    "**Determine the final pipeline:**\n",
    "\n",
    "According to the results of the cross validation above, I decided to remove the SVR model from my stacking because it performs the worst and takes a relative long time."
   ]
  },
  {
   "cell_type": "code",
   "execution_count": 23,
   "metadata": {},
   "outputs": [],
   "source": [
    "estimators = [\n",
    "    (\"knn\", KNeighborsRegressor(n_neighbors=23, weights=\"uniform\", p=1, n_jobs=-1)),\n",
    "    (\"rf\", RandomForestRegressor(n_estimators=200, criterion=\"mae\", min_samples_split=8, oob_score=True, n_jobs=-1))\n",
    "]\n",
    "\n",
    "final_pl = Pipeline([\n",
    "    (\"adv-ct\", advanced_ct),\n",
    "    (\"final-PCA\", PCA(svd_solver=\"full\")),\n",
    "    (\"stack\", StackingRegressor(estimators))\n",
    "])"
   ]
  },
  {
   "cell_type": "markdown",
   "metadata": {},
   "source": [
    "**Use the testing set to test the performance:**"
   ]
  },
  {
   "cell_type": "code",
   "execution_count": 24,
   "metadata": {},
   "outputs": [
    {
     "data": {
      "text/plain": [
       "0.23852461872700378"
      ]
     },
     "execution_count": 24,
     "metadata": {},
     "output_type": "execute_result"
    }
   ],
   "source": [
    "final_pl.fit(train_X, train_y).score(test_X, test_y)"
   ]
  },
  {
   "cell_type": "markdown",
   "metadata": {},
   "source": [
    "**General performance evaluation:**\n",
    "\n",
    "Compare to the baseline model, the R^2 value on the testing set above has been significantly improved. However, I am curious about how this model performs in general. As I have finished setting up the model, I guess it is permitted to play with the full dataset and perform multiple times of train_test_split with no worries. Like what I have done to the baseline model, I will do the process of split-train-test for 20 times and plot the R^2 distribution because it is time consuming to run the fitting process."
   ]
  },
  {
   "cell_type": "code",
   "execution_count": 25,
   "metadata": {},
   "outputs": [
    {
     "data": {
      "text/plain": [
       "<matplotlib.axes._subplots.AxesSubplot at 0x117a885ea08>"
      ]
     },
     "execution_count": 25,
     "metadata": {},
     "output_type": "execute_result"
    },
    {
     "data": {
      "image/png": "[encoded data removed]",
      "text/plain": [
       "<Figure size 432x288 with 1 Axes>"
      ]
     },
     "metadata": {
      "image/png": {
       "height": 248,
       "width": 381
      },
      "needs_background": "light"
     },
     "output_type": "display_data"
    }
   ],
   "source": [
    "scores = []\n",
    "for _ in range(20):\n",
    "    train_X, test_X, train_y, test_y = train_test_split(X, y, test_size = 0.2)\n",
    "    scores.append(final_pl.fit(train_X, train_y).score(test_X, test_y))\n",
    "pd.Series(scores).plot(kind=\"hist\")"
   ]
  },
  {
   "cell_type": "markdown",
   "metadata": {},
   "source": [
    "**Comment:**\n",
    "\n",
    "Comparing the distributions of R^2 values, this revised model performs much better than the baseline model."
   ]
  },
  {
   "cell_type": "markdown",
   "metadata": {},
   "source": [
    "### Fairness Evaluation"
   ]
  },
  {
   "cell_type": "markdown",
   "metadata": {},
   "source": [
    "One of the many faireness concerns in this project is that: Is my model biased towards states with more records? As we can notice, some states have dozens of records in `outage`, while others may only have one or two. The disproportional distribution of data points can make our model biased towards states with more records. Following this idea, we will perform a permutation test to see if there is a bias, and whether the bias is statistically significant or not. I pick the five states with the highest occurences as representatives of \"over-represented\" group, which are California, Texas, Michigan, Illinois, and Virginia.\n",
    "\n",
    "H0: The R^2 value for predicting `OUTAGE.DURATION` in over-represented states is roughly the same as that for other states.\n",
    "\n",
    "H1: The R^2 value for predicting `OUTAGE.DURATION` in over-represented states is higher than that for other states."
   ]
  },
  {
   "cell_type": "code",
   "execution_count": 26,
   "metadata": {},
   "outputs": [],
   "source": [
    "# Artificial train_test_split to meet our demand on screening all the California out of the testing set\n",
    "train = outage.sample(replace=False, frac=0.8)\n",
    "test = outage.drop(train.index)\n",
    "test_over = test.loc[test[\"U.S._STATE\"].isin([\"California\", \"Texas\", \"Michigan\", \"Illinois\", \"Virginia\"])]\n",
    "test_not_over = test.loc[~test[\"U.S._STATE\"].isin([\"California\", \"Texas\", \"Michigan\", \"Illinois\", \"Virginia\"])]\n",
    "train_X = train.drop(\"OUTAGE.DURATION\", axis=1)\n",
    "train_y = train[\"OUTAGE.DURATION\"]\n",
    "test_over_X = test_over.drop(\"OUTAGE.DURATION\", axis=1)\n",
    "test_over_y = test_over[\"OUTAGE.DURATION\"]\n",
    "test_not_over_X = test_not_over.drop(\"OUTAGE.DURATION\", axis=1)\n",
    "test_not_over_y = test_not_over[\"OUTAGE.DURATION\"]"
   ]
  },
  {
   "cell_type": "markdown",
   "metadata": {},
   "source": [
    "**Observed_statistic:**"
   ]
  },
  {
   "cell_type": "code",
   "execution_count": 27,
   "metadata": {},
   "outputs": [
    {
     "data": {
      "text/plain": [
       "0.28853704607603625"
      ]
     },
     "execution_count": 27,
     "metadata": {},
     "output_type": "execute_result"
    }
   ],
   "source": [
    "final_model = final_pl.fit(train_X, train_y)\n",
    "observed = final_model.score(test_over_X, test_over_y) - final_model.score(test_not_over_X, test_not_over_y)\n",
    "observed"
   ]
  },
  {
   "cell_type": "markdown",
   "metadata": {},
   "source": [
    "**Permutation test:**\n",
    "\n",
    "How often can we reach this statistic if we randomly split the testing dataset into two groups? The fraction of these two groups are kept from above. Set alpha to be 0.05."
   ]
  },
  {
   "cell_type": "code",
   "execution_count": 28,
   "metadata": {
    "scrolled": true
   },
   "outputs": [
    {
     "name": "stdout",
     "output_type": "stream",
     "text": [
      "p_val= 0.01\n"
     ]
    },
    {
     "data": {
      "image/png": "[encoded data removed]",
      "text/plain": [
       "<Figure size 432x288 with 1 Axes>"
      ]
     },
     "metadata": {
      "image/png": {
       "height": 248,
       "width": 391
      },
      "needs_background": "light"
     },
     "output_type": "display_data"
    }
   ],
   "source": [
    "num_group_A = len(test_over)\n",
    "score_diffs = []\n",
    "for _ in range(100):\n",
    "    test_group_A = test.sample(replace=False, n=num_group_A)\n",
    "    test_group_B = test.drop(test_group_A.index)\n",
    "    test_group_A_X = test_group_A.drop(\"OUTAGE.DURATION\", axis=1)\n",
    "    test_group_A_y = test_group_A[\"OUTAGE.DURATION\"]\n",
    "    test_group_B_X = test_group_B.drop(\"OUTAGE.DURATION\", axis=1)\n",
    "    test_group_B_y = test_group_B[\"OUTAGE.DURATION\"]\n",
    "    score_diffs.append(final_model.score(test_group_A_X, test_group_A_y) - final_model.score(test_group_B_X, test_group_B_y))\n",
    "\n",
    "pd.Series(score_diffs).plot(kind=\"hist\",density=True)\n",
    "plt.scatter(observed, 0, color=\"red\", s=40)\n",
    "print(\"p_val=\", sum(score_diffs > observed) / 100)"
   ]
  },
  {
   "cell_type": "markdown",
   "metadata": {},
   "source": [
    "**Conclusion:**\n",
    "\n",
    "As the p-value is less than the alpha we set, we will reject H0 and accept H1. That means, this model is biased towards over-represented states in the dataset."
   ]
  }
 ],
 "metadata": {
  "kernelspec": {
   "display_name": "Python 3",
   "language": "python",
   "name": "python3"
  },
  "language_info": {
   "codemirror_mode": {
    "name": "ipython",
    "version": 3
   },
   "file_extension": ".py",
   "mimetype": "text/x-python",
   "name": "python",
   "nbconvert_exporter": "python",
   "pygments_lexer": "ipython3",
   "version": "3.7.6"
  }
 },
 "nbformat": 4,
 "nbformat_minor": 2
}
